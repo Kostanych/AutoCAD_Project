{
 "cells": [
  {
   "cell_type": "markdown",
   "metadata": {},
   "source": [
    "# AutoCAD MegaIntellegence Project\n",
    "  Предназначено для ускорения работы с конструкторскими чертежами. Машинное обучение позволит убрать рутинные операции. Программа должна проставлять размеры на точки крепления к приборам, с учётом всех требований. Это первая задача. С имеющейся базой можно расширить применение на другие задачи работы с dwg чертежами.\n",
    "  \n",
    "  Проект читает $хорошие$ чертежи, обучается на существущих позициях размеров. X - линии в слое с точками крепления, пересечение с линиями прибора. y - базовые точки размеров, положение текста\n",
    "  \n",
    "  Первая версия: будет один вид, нужно проставить все размеры на 1 виде.\n",
    "  \n",
    "$$успех = усердие + время$$"
   ]
  },
  {
   "cell_type": "code",
   "execution_count": 1,
   "metadata": {},
   "outputs": [],
   "source": [
    "\n",
    "import win32com.client\n",
    "import comtypes.client\n",
    "import numpy as np\n",
    "import pandas as pd\n",
    "import math\n",
    "import array\n",
    "\n",
    "app = comtypes.client.GetActiveObject('AutoCAD.Application')\n",
    "#app = win32com.client.Dispatch(\"AutoCAD.Application\")\n",
    "activedoc = app.ActiveDocument\n",
    "msp =activedoc.ModelSpace"
   ]
  },
  {
   "cell_type": "code",
   "execution_count": 2,
   "metadata": {},
   "outputs": [],
   "source": [
    "# import win32com.client\n",
    "# acad = win32com.client.Dispatch(\"AutoCAD.Application\")\n",
    "\n",
    "# doc = acad.ActiveDocument   # Document object\n",
    "\n",
    "\n",
    "# # iterate trough all objects (entities) in the currently opened drawing\n",
    "# # and if its a BlockReference, display its attributes and some other things.\n",
    "# for entity in acad.ActiveDocument.ModelSpace:\n",
    "#     name = entity.EntityName\n",
    "#     if name == 'AcDbBlockReference':\n",
    "#         HasAttributes = entity.HasAttributes\n",
    "#         if HasAttributes:\n",
    "#             print(entity.Name)\n",
    "#             print(entity.Layer)\n",
    "#             print(entity.ObjectID)\n",
    "#             for attrib in entity.GetAttributes():\n",
    "#                 print(\"  {}: {}\".format(attrib.TagString, attrib.TextString))\n",
    "                \n",
    "#                 # update text\n",
    "#                 attrib.TextString = 'modified with python'\n",
    "#                 attrib.Update()"
   ]
  },
  {
   "cell_type": "code",
   "execution_count": 29,
   "metadata": {},
   "outputs": [
    {
     "name": "stdout",
     "output_type": "stream",
     "text": [
      "<POINTER(IAcadModelSpace) ptr=0x71fed08 at 934f448>\n",
      "prib1_front\n",
      "prib1_side\n",
      "prib1_above\n"
     ]
    },
    {
     "ename": "AttributeError",
     "evalue": "Name",
     "output_type": "error",
     "traceback": [
      "\u001b[1;31m---------------------------------------------------------------------------\u001b[0m",
      "\u001b[1;31mKeyError\u001b[0m                                  Traceback (most recent call last)",
      "\u001b[1;32mD:\\Anaconda3\\lib\\site-packages\\comtypes\\__init__.py\u001b[0m in \u001b[0;36m__getattr__\u001b[1;34m(self, name)\u001b[0m\n\u001b[0;32m    274\u001b[0m                     \u001b[1;32mtry\u001b[0m\u001b[1;33m:\u001b[0m\u001b[1;33m\u001b[0m\u001b[1;33m\u001b[0m\u001b[0m\n\u001b[1;32m--> 275\u001b[1;33m                         \u001b[0mfixed_name\u001b[0m \u001b[1;33m=\u001b[0m \u001b[0mself\u001b[0m\u001b[1;33m.\u001b[0m\u001b[0m__map_case__\u001b[0m\u001b[1;33m[\u001b[0m\u001b[0mname\u001b[0m\u001b[1;33m.\u001b[0m\u001b[0mlower\u001b[0m\u001b[1;33m(\u001b[0m\u001b[1;33m)\u001b[0m\u001b[1;33m]\u001b[0m\u001b[1;33m\u001b[0m\u001b[1;33m\u001b[0m\u001b[0m\n\u001b[0m\u001b[0;32m    276\u001b[0m                     \u001b[1;32mexcept\u001b[0m \u001b[0mKeyError\u001b[0m\u001b[1;33m:\u001b[0m\u001b[1;33m\u001b[0m\u001b[1;33m\u001b[0m\u001b[0m\n",
      "\u001b[1;31mKeyError\u001b[0m: 'name'",
      "\nDuring handling of the above exception, another exception occurred:\n",
      "\u001b[1;31mAttributeError\u001b[0m                            Traceback (most recent call last)",
      "\u001b[1;32m<ipython-input-29-bcfec9839ce7>\u001b[0m in \u001b[0;36m<module>\u001b[1;34m\u001b[0m\n\u001b[0;32m      2\u001b[0m     \u001b[0mprint\u001b[0m\u001b[1;33m(\u001b[0m\u001b[0mblk\u001b[0m\u001b[1;33m)\u001b[0m\u001b[1;33m\u001b[0m\u001b[1;33m\u001b[0m\u001b[0m\n\u001b[0;32m      3\u001b[0m     \u001b[1;32mfor\u001b[0m \u001b[0ment\u001b[0m \u001b[1;32min\u001b[0m \u001b[0mblk\u001b[0m\u001b[1;33m:\u001b[0m\u001b[1;33m\u001b[0m\u001b[1;33m\u001b[0m\u001b[0m\n\u001b[1;32m----> 4\u001b[1;33m         \u001b[0mprint\u001b[0m\u001b[1;33m(\u001b[0m\u001b[0ment\u001b[0m\u001b[1;33m.\u001b[0m\u001b[0mName\u001b[0m\u001b[1;33m)\u001b[0m\u001b[1;33m\u001b[0m\u001b[1;33m\u001b[0m\u001b[0m\n\u001b[0m",
      "\u001b[1;32mD:\\Anaconda3\\lib\\site-packages\\comtypes\\__init__.py\u001b[0m in \u001b[0;36m__getattr__\u001b[1;34m(self, name)\u001b[0m\n\u001b[0;32m    275\u001b[0m                         \u001b[0mfixed_name\u001b[0m \u001b[1;33m=\u001b[0m \u001b[0mself\u001b[0m\u001b[1;33m.\u001b[0m\u001b[0m__map_case__\u001b[0m\u001b[1;33m[\u001b[0m\u001b[0mname\u001b[0m\u001b[1;33m.\u001b[0m\u001b[0mlower\u001b[0m\u001b[1;33m(\u001b[0m\u001b[1;33m)\u001b[0m\u001b[1;33m]\u001b[0m\u001b[1;33m\u001b[0m\u001b[1;33m\u001b[0m\u001b[0m\n\u001b[0;32m    276\u001b[0m                     \u001b[1;32mexcept\u001b[0m \u001b[0mKeyError\u001b[0m\u001b[1;33m:\u001b[0m\u001b[1;33m\u001b[0m\u001b[1;33m\u001b[0m\u001b[0m\n\u001b[1;32m--> 277\u001b[1;33m                         \u001b[1;32mraise\u001b[0m \u001b[0mAttributeError\u001b[0m\u001b[1;33m(\u001b[0m\u001b[0mname\u001b[0m\u001b[1;33m)\u001b[0m\u001b[1;33m\u001b[0m\u001b[1;33m\u001b[0m\u001b[0m\n\u001b[0m\u001b[0;32m    278\u001b[0m                     \u001b[1;32mif\u001b[0m \u001b[0mfixed_name\u001b[0m \u001b[1;33m!=\u001b[0m \u001b[0mname\u001b[0m\u001b[1;33m:\u001b[0m \u001b[1;31m# prevent unbounded recursion\u001b[0m\u001b[1;33m\u001b[0m\u001b[1;33m\u001b[0m\u001b[0m\n\u001b[0;32m    279\u001b[0m                         \u001b[1;32mreturn\u001b[0m \u001b[0mgetattr\u001b[0m\u001b[1;33m(\u001b[0m\u001b[0mself\u001b[0m\u001b[1;33m,\u001b[0m \u001b[0mfixed_name\u001b[0m\u001b[1;33m)\u001b[0m\u001b[1;33m\u001b[0m\u001b[1;33m\u001b[0m\u001b[0m\n",
      "\u001b[1;31mAttributeError\u001b[0m: Name"
     ]
    }
   ],
   "source": [
    "for blk in activedoc.Blocks:\n",
    "    print(blk)\n",
    "    for ent in blk:\n",
    "        print(ent.Name)"
   ]
  },
  {
   "cell_type": "code",
   "execution_count": null,
   "metadata": {},
   "outputs": [],
   "source": []
  },
  {
   "cell_type": "code",
   "execution_count": 2,
   "metadata": {},
   "outputs": [],
   "source": [
    "df = pd.DataFrame()"
   ]
  },
  {
   "cell_type": "code",
   "execution_count": 37,
   "metadata": {},
   "outputs": [
    {
     "name": "stdout",
     "output_type": "stream",
     "text": [
      "prib1_front\n",
      "<POINTER(IAcadLine) ptr=0x7646ec8 at 934f3c8>\n",
      "<POINTER(IAcadLine) ptr=0x7534a88 at 934fac8>\n",
      "<POINTER(IAcadLine) ptr=0x7535ee8 at 934fb48>\n",
      "<POINTER(IAcadLine) ptr=0x7535d98 at 934f8c8>\n",
      "<POINTER(IAcadLine) ptr=0x7534a18 at 934f9c8>\n",
      "<POINTER(IAcadLine) ptr=0x71e7808 at 934fa48>\n",
      "<POINTER(IAcadLine) ptr=0x4a5dce8 at 934f048>\n",
      "<POINTER(IAcadLine) ptr=0x71e73a8 at 934f1c8>\n",
      "<POINTER(IAcadLine) ptr=0x4a5dff8 at 934f9c8>\n",
      "<POINTER(IAcadLine) ptr=0x71e7568 at 934f8c8>\n",
      "<POINTER(IAcadLine) ptr=0x4a5db98 at 934f3c8>\n",
      "<POINTER(IAcadLine) ptr=0x71e7178 at 934fa48>\n",
      "<POINTER(IAcadLWPolyline) ptr=0x4a5dc08 at 934fac8>\n",
      "<POINTER(IAcadCircle) ptr=0x71e7958 at 934fb48>\n",
      "prib1_side\n",
      "<POINTER(IAcadLine) ptr=0x7535698 at 934fa48>\n",
      "<POINTER(IAcadLine) ptr=0x71e7178 at 934fc48>\n",
      "<POINTER(IAcadLine) ptr=0x7535e78 at 934f1c8>\n",
      "<POINTER(IAcadLine) ptr=0x71e7808 at 934f8c8>\n",
      "<POINTER(IAcadLine) ptr=0x7536268 at 934fac8>\n",
      "<POINTER(IAcadLine) ptr=0x71e7108 at 934f048>\n",
      "<POINTER(IAcadLine) ptr=0x7535fc8 at 934fb48>\n",
      "<POINTER(IAcadLine) ptr=0x71e74f8 at 934fa48>\n",
      "<POINTER(IAcadLine) ptr=0x7535a18 at 934fc48>\n",
      "<POINTER(IAcadLine) ptr=0x71e7568 at 934f1c8>\n",
      "<POINTER(IAcadLine) ptr=0x7535698 at 934f8c8>\n",
      "<POINTER(IAcadLine) ptr=0x71e7648 at 934fac8>\n",
      "<POINTER(IAcadLine) ptr=0x7535e78 at 934f048>\n",
      "<POINTER(IAcadLine) ptr=0x71e6d18 at 934fb48>\n",
      "prib1_above\n",
      "<POINTER(IAcadLine) ptr=0x71ffa98 at 934fac8>\n",
      "<POINTER(IAcadLine) ptr=0x71e75d8 at 934f648>\n",
      "<POINTER(IAcadLine) ptr=0x71fef38 at 934fa48>\n",
      "<POINTER(IAcadLine) ptr=0x71e6ae8 at 934f1c8>\n",
      "<POINTER(IAcadLine) ptr=0x71ffa28 at 934f048>\n",
      "<POINTER(IAcadLine) ptr=0x71e7568 at 934f848>\n",
      "<POINTER(IAcadLine) ptr=0x71ffa98 at 934fb48>\n",
      "<POINTER(IAcadLine) ptr=0x71e7958 at 934fac8>\n",
      "<POINTER(IAcadLine) ptr=0x71fef38 at 934f648>\n",
      "<POINTER(IAcadLine) ptr=0x71e6d88 at 934fa48>\n",
      "<POINTER(IAcadLine) ptr=0x71ffa28 at 934f1c8>\n",
      "<POINTER(IAcadLine) ptr=0x71e7108 at 934f048>\n",
      "<POINTER(IAcadLine) ptr=0x71ffa98 at 934f848>\n",
      "<POINTER(IAcadLine) ptr=0x71e74f8 at 934fb48>\n",
      "<POINTER(IAcadLine) ptr=0x71fef38 at 934fac8>\n",
      "<POINTER(IAcadLine) ptr=0x7646678 at 934f648>\n"
     ]
    }
   ],
   "source": [
    "# set variables\n",
    "dim_aligned, dim_rotated, blockref, i = 0,0,0,1\n",
    "d= {'prib':[], 'point':[]}\n",
    "df = pd.DataFrame(data = d)\n",
    "\n",
    "# view each object\n",
    "for item in msp:\n",
    "    if item.ObjectName == 'AcDbBlockReference':\n",
    "        blockref = item\n",
    "        print (blockref.Name)\n",
    "        for element in activedoc.Blocks.Item(blockref.Name):\n",
    "            print(element)\n",
    "    #print(f'got an item: {item}')\n",
    "    #print(f'Object name: {item.ObjectName}')\n",
    "    #print(item._methods_)\n",
    "    \n",
    "#     if item.ObjectName =='AcDbRotatedDimension':\n",
    "#         #print('found aligned dimention.')\n",
    "#         #print(f'Object layer name: {item.Layer}\\n')       \n",
    "#         dim_rotated = item\n",
    "#     elif item.ObjectName == 'AcDbAlignedDimension':\n",
    "#         #print('found rotated dimention\\n')\n",
    "#         dim_aligned = item\n",
    "        \n",
    "    #explode blocks\n",
    "#    elif item.ObjectName == 'AcDbBlockReference':       \n",
    "#         try:\n",
    "#             print(f'Found a block.\\n')\n",
    "#             block = item\n",
    "#             block.Explode()\n",
    "#         except:\n",
    "#             pass    # here we have some VARIANT bug. So just proceed.\n",
    "#         i+=1"
   ]
  },
  {
   "cell_type": "code",
   "execution_count": 28,
   "metadata": {},
   "outputs": [
    {
     "data": {
      "text/plain": [
       "'prib1_above'"
      ]
     },
     "execution_count": 28,
     "metadata": {},
     "output_type": "execute_result"
    }
   ],
   "source": [
    "# dim_rotated.GetXData('AutoCAD.Application')\n",
    "# dim_rotated.TextPosition = array.array('d', [450.0, 550.0, 0.0])\n",
    "# dim_rotated.update()\n",
    "# dim_rotated.HorizontalTextPosition\n",
    "blockref.Name\n"
   ]
  },
  {
   "cell_type": "code",
   "execution_count": 45,
   "metadata": {},
   "outputs": [],
   "source": [
    "pt = array.array('d', [0,0,0]) # to convert in variant\n",
    "point = mSp.AddPoint(pt)\n",
    "# Add a LINE\n",
    "pt1 = array.array('d', [0.0,0.0,0]) # start point\n",
    "pt2 = array.array('d', [20.0,20.0,0]) # end point\n",
    "line = mSp.AddLine(pt1, pt2)"
   ]
  },
  {
   "cell_type": "code",
   "execution_count": 46,
   "metadata": {},
   "outputs": [
    {
     "data": {
      "text/plain": [
       "0"
      ]
     },
     "execution_count": 46,
     "metadata": {},
     "output_type": "execute_result"
    }
   ],
   "source": [
    "s1 =  array.array('d', [500.0, 800.0, 0.0])\n",
    "s2 =  array.array('d', [500.0, 1200.0, 0.0])\n",
    "loc = array.array('d', [500.0, 1000.0, 0.0])\n",
    "new_dim = mSp.AddDimAligned(s1, s2, loc)\n",
    "new_dim.update()"
   ]
  },
  {
   "cell_type": "code",
   "execution_count": 47,
   "metadata": {},
   "outputs": [],
   "source": [
    "acad = win32com.client.Dispatch(\"AutoCAD.Application\")\n",
    "\n",
    "doc = acad.ActiveDocument   # Document object\n",
    "\n",
    "\n",
    "# iterate trough all objects (entities) in the currently opened drawing\n",
    "# and if its a BlockReference, display its attributes and some other things.\n",
    "for entity in acad.ActiveDocument.ModelSpace:\n",
    "    name = entity.EntityName\n",
    "    if name == 'AcDbBlockReference':\n",
    "        HasAttributes = entity.HasAttributes\n",
    "        if HasAttributes:\n",
    "            print(entity.Name)\n",
    "            print(entity.Layer)\n",
    "            print(entity.ObjectID)\n",
    "            for attrib in entity.GetAttributes():\n",
    "                print(\"  {}: {}\".format(attrib.TagString, attrib.TextString))\n",
    "                \n",
    "                # update text\n",
    "                attrib.TextString = 'modified with python'\n",
    "                attribib.Update()"
   ]
  },
  {
   "cell_type": "code",
   "execution_count": 48,
   "metadata": {},
   "outputs": [
    {
     "ename": "SyntaxError",
     "evalue": "invalid syntax (<ipython-input-48-0914cce5ec06>, line 1)",
     "output_type": "error",
     "traceback": [
      "\u001b[1;36m  File \u001b[1;32m\"<ipython-input-48-0914cce5ec06>\"\u001b[1;36m, line \u001b[1;32m1\u001b[0m\n\u001b[1;33m    dim.\u001b[0m\n\u001b[1;37m        ^\u001b[0m\n\u001b[1;31mSyntaxError\u001b[0m\u001b[1;31m:\u001b[0m invalid syntax\n"
     ]
    }
   ],
   "source": [
    "dim.\n"
   ]
  },
  {
   "cell_type": "code",
   "execution_count": null,
   "metadata": {},
   "outputs": [],
   "source": [
    "df = pd.read_excel('E://Python/RubinProject/Journal.xlsx')"
   ]
  },
  {
   "cell_type": "code",
   "execution_count": null,
   "metadata": {},
   "outputs": [],
   "source": [
    "make_dim_vertical()"
   ]
  },
  {
   "cell_type": "code",
   "execution_count": null,
   "metadata": {},
   "outputs": [],
   "source": [
    "df = df.rename({'Имя прибора': 'prib_name',\n",
    "               'Индекс по схеме': 'shema_index'},\n",
    "               axis=1)"
   ]
  },
  {
   "cell_type": "code",
   "execution_count": null,
   "metadata": {},
   "outputs": [],
   "source": []
  },
  {
   "cell_type": "code",
   "execution_count": null,
   "metadata": {},
   "outputs": [],
   "source": []
  },
  {
   "cell_type": "code",
   "execution_count": null,
   "metadata": {},
   "outputs": [],
   "source": [
    "def MakeDimVertical(msp, point1, point2, loc):\n",
    "    \"\"\"This function make vertical dimension.\n",
    "    \n",
    "    msp:  model space\n",
    "    point1, point2: points of dimention\n",
    "    loc - location of dimension\n",
    "    \"\"\"\n",
    "    pass\n",
    "    \n",
    "\n",
    "def MakeDimHorizontal(msp, point1, point2, loc):\n",
    "    \"\"\"This function make horizontal dimension.\n",
    "    \n",
    "    msp:  model space\n",
    "    point1, point2: points of dimention\n",
    "    loc - location of dimension\n",
    "    \"\"\"\n",
    "    pass\n",
    "\n",
    "def ProcessAttachmentPoints(msp, objects):\n",
    "    \"\"\"This function make coorginates of attachment points.\n",
    "    \n",
    "    msp:  model space\n",
    "    objects:  lines from specified layer\n",
    "    \"\"\"\n",
    "    pass\n"
   ]
  },
  {
   "cell_type": "markdown",
   "metadata": {},
   "source": [
    "Фичи размеров в качестве таргетов:\n",
    "- TextPosition (rotated размеры тоже их имеют)"
   ]
  },
  {
   "cell_type": "markdown",
   "metadata": {},
   "source": [
    "Запасной вариант- взрывать кхерам все размеры, вытаскивать параметры линий, и таким образом получать координаты точек привязки размера, а заодно и координаты текста. Наверное, придётся так и сделать, чтобы обеспечить непересекаемоть размеров и других линий чертежа, типа линий габаритки"
   ]
  },
  {
   "cell_type": "code",
   "execution_count": null,
   "metadata": {},
   "outputs": [],
   "source": []
  },
  {
   "cell_type": "code",
   "execution_count": null,
   "metadata": {},
   "outputs": [],
   "source": []
  },
  {
   "cell_type": "code",
   "execution_count": null,
   "metadata": {},
   "outputs": [],
   "source": []
  }
 ],
 "metadata": {
  "kernelspec": {
   "display_name": "Python 3",
   "language": "python",
   "name": "python3"
  },
  "language_info": {
   "codemirror_mode": {
    "name": "ipython",
    "version": 3
   },
   "file_extension": ".py",
   "mimetype": "text/x-python",
   "name": "python",
   "nbconvert_exporter": "python",
   "pygments_lexer": "ipython3",
   "version": "3.7.4"
  }
 },
 "nbformat": 4,
 "nbformat_minor": 4
}
