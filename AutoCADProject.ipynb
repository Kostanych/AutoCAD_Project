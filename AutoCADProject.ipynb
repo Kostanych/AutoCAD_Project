{
 "cells": [
  {
   "cell_type": "markdown",
   "metadata": {},
   "source": [
    "# AutoCAD MegaIntellegence Project\n"
   ]
  },
  {
   "cell_type": "code",
   "execution_count": 1,
   "metadata": {},
   "outputs": [],
   "source": [
    "#import win32com.client\n",
    "import comtypes.client\n",
    "import numpy as np\n",
    "import pandas as pd\n",
    "import math\n",
    "import array\n",
    "import time\n",
    "app = comtypes.client.GetActiveObject('AutoCAD.Application')\n",
    "#app = win32com.client.Dispatch(\"AutoCAD.Application\")\n",
    "activedoc = app.ActiveDocument\n",
    "msp =activedoc.ModelSpace"
   ]
  },
  {
   "cell_type": "code",
   "execution_count": 2,
   "metadata": {},
   "outputs": [],
   "source": [
    "# print all Block refs:\n",
    "# for blk in activedoc.Blocks:\n",
    "#     print(blk)"
   ]
  },
  {
   "cell_type": "code",
   "execution_count": 3,
   "metadata": {},
   "outputs": [
    {
     "name": "stdout",
     "output_type": "stream",
     "text": [
      "Block ref name: <POINTER(IAcadBlock) ptr=0x22d1fa52778 at 22d20e75bc8>\n",
      "Block ref name: <POINTER(IAcadBlock) ptr=0x22d1fa52f58 at 22d1e415ac8>\n",
      "Block ref name: <POINTER(IAcadBlock) ptr=0x22d1fa40a28 at 22d1e415648>\n"
     ]
    }
   ],
   "source": [
    "# set variables\n",
    "df = pd.DataFrame(columns ={'device','start_att_line_X', 'end_att_line_X','start_att_line_Y', 'end_att_line_Y','first_point'})\n",
    "df = df[['device','start_att_line_X', 'end_att_line_X','start_att_line_Y', 'end_att_line_Y','first_point']]\n",
    "dim_aligned, dim_rotated, blockref, i = 0,0,0,0\n",
    "# view each object in ModelSpace\n",
    "for item in msp:\n",
    "    #TODO: need to check if that actually device block\n",
    "    #if it's a device:\n",
    "    if item.ObjectName == 'AcDbBlockReference':\n",
    "        #find BLOCK object using given BlockRef\n",
    "        block = activedoc.Blocks.Item(item.Name)\n",
    "        print (f'Block ref name: {block}')\n",
    "        for element in block:\n",
    "            if element.Layer ==\"attachment point\":\n",
    "                # fill the dataframe with the coordinates of the attachment points. Coordinates consists of distance from point (0,0,0) and insertion point\n",
    "                  df = df.append({'device': i, \\\n",
    "                                'start_att_line_X': element.StartPoint[0] + item.InsertionPoint[0], \\\n",
    "                                'start_att_line_Y': element.StartPoint[1] + item.InsertionPoint[1], \\\n",
    "                                'end_att_line_X': element.EndPoint[0] + item.InsertionPoint[0],\\\n",
    "                                'end_att_line_Y': element.EndPoint[1] + item.InsertionPoint[1]},  ignore_index=True)\n",
    "        i+=1\n",
    "                \n",
    "df['device'] = df['device'].astype(int)\n"
   ]
  },
  {
   "cell_type": "code",
   "execution_count": 4,
   "metadata": {},
   "outputs": [],
   "source": [
    "# Length of attraction line must be 5mm\n",
    "# Is the line in this row horisontal?\n",
    "df['horizontal']= (df.iloc[:,1] == df.iloc[:,2])\n",
    "# Find center of this line at axis X. If line is horizontal...\n",
    "df['point_X'] =np.where(df['horizontal'], \\\n",
    "                        # any coordinate is suitable\n",
    "                        df.iloc[:, 1], \\\n",
    "                        # otherwise, take the middle of the line by X\n",
    "                        (np.minimum(df.iloc[:, 1], df.iloc[:, 2]) +2.5))\n",
    "\n",
    "#same for Y\n",
    "df['point_Y'] =np.where(~ df['horizontal'], \\\n",
    "                        df.iloc[:, 3], \\\n",
    "                        (np.minimum(df.iloc[:, 3], df.iloc[:, 4]) +2.5)) \n",
    "# Make feature with coordinates of attachment point\n",
    "df['first_point'] =df.point_X.astype(str) + ',' + df.point_Y.astype(str)\n",
    "\n"
   ]
  },
  {
   "cell_type": "code",
   "execution_count": 5,
   "metadata": {},
   "outputs": [
    {
     "name": "stdout",
     "output_type": "stream",
     "text": [
      "found aligned dimention\n",
      "\n",
      "found aligned dimention\n",
      "\n",
      "found aligned dimention\n",
      "\n",
      "found aligned dimention\n",
      "\n",
      "found rotated dimention.\n",
      "<POINTER(IAcadDimRotated) ptr=0x22d1fa3fd78 at 22d1e43f8c8>\n",
      "found rotated dimention.\n",
      "<POINTER(IAcadDimRotated) ptr=0x22d1d757cb8 at 22d1e43fc48>\n"
     ]
    }
   ],
   "source": [
    "#df\n",
    "    #print(f'got an item: {item}')\n",
    "    #print(f'Object name: {item.ObjectName}')\n",
    "    #print(item._methods_)\n",
    "dims = []\n",
    "for item in msp:    \n",
    "    if item.ObjectName =='AcDbRotatedDimension':\n",
    "        print('found rotated dimention.')\n",
    "        print(item)\n",
    "        #print(f'Object layer name: {item.Layer}\\n')       \n",
    "        dim_rotated = item\n",
    "    elif item.ObjectName == 'AcDbAlignedDimension':\n",
    "        print('found aligned dimention\\n')\n",
    "        dim_aligned = item\n",
    "        dims.append(dim_aligned)\n",
    "   "
   ]
  },
  {
   "cell_type": "code",
   "execution_count": 6,
   "metadata": {},
   "outputs": [
    {
     "data": {
      "text/html": [
       "<div>\n",
       "<style scoped>\n",
       "    .dataframe tbody tr th:only-of-type {\n",
       "        vertical-align: middle;\n",
       "    }\n",
       "\n",
       "    .dataframe tbody tr th {\n",
       "        vertical-align: top;\n",
       "    }\n",
       "\n",
       "    .dataframe thead th {\n",
       "        text-align: right;\n",
       "    }\n",
       "</style>\n",
       "<table border=\"1\" class=\"dataframe\">\n",
       "  <thead>\n",
       "    <tr style=\"text-align: right;\">\n",
       "      <th></th>\n",
       "      <th>dim_No</th>\n",
       "      <th>text_pos_X</th>\n",
       "      <th>text_pos_Y</th>\n",
       "      <th>point</th>\n",
       "    </tr>\n",
       "  </thead>\n",
       "  <tbody>\n",
       "    <tr>\n",
       "      <th>0</th>\n",
       "      <td>1</td>\n",
       "      <td>510.100512</td>\n",
       "      <td>439.184607</td>\n",
       "      <td>475.1005121910266,460.1081545011157</td>\n",
       "    </tr>\n",
       "    <tr>\n",
       "      <th>1</th>\n",
       "      <td>2</td>\n",
       "      <td>427.585409</td>\n",
       "      <td>599.101201</td>\n",
       "      <td>471.143810326269,539.9107245164855</td>\n",
       "    </tr>\n",
       "    <tr>\n",
       "      <th>2</th>\n",
       "      <td>3</td>\n",
       "      <td>506.143810</td>\n",
       "      <td>617.375849</td>\n",
       "      <td>471.143810326269,569.9107245164855</td>\n",
       "    </tr>\n",
       "    <tr>\n",
       "      <th>3</th>\n",
       "      <td>4</td>\n",
       "      <td>615.809154</td>\n",
       "      <td>554.910725</td>\n",
       "      <td>659.2998643756055,569.9107245164855</td>\n",
       "    </tr>\n",
       "    <tr>\n",
       "      <th>0</th>\n",
       "      <td>1</td>\n",
       "      <td>510.100512</td>\n",
       "      <td>439.184607</td>\n",
       "      <td>545.1005121910266,460.1081545011157</td>\n",
       "    </tr>\n",
       "    <tr>\n",
       "      <th>1</th>\n",
       "      <td>2</td>\n",
       "      <td>427.585409</td>\n",
       "      <td>599.101201</td>\n",
       "      <td>471.143810326269,569.9107245164855</td>\n",
       "    </tr>\n",
       "    <tr>\n",
       "      <th>2</th>\n",
       "      <td>3</td>\n",
       "      <td>506.143810</td>\n",
       "      <td>617.375849</td>\n",
       "      <td>541.143810326269,569.9107245164855</td>\n",
       "    </tr>\n",
       "    <tr>\n",
       "      <th>3</th>\n",
       "      <td>4</td>\n",
       "      <td>615.809154</td>\n",
       "      <td>554.910725</td>\n",
       "      <td>659.2998643756055,539.9107245164855</td>\n",
       "    </tr>\n",
       "  </tbody>\n",
       "</table>\n",
       "</div>"
      ],
      "text/plain": [
       "  dim_No  text_pos_X  text_pos_Y                                point\n",
       "0      1  510.100512  439.184607  475.1005121910266,460.1081545011157\n",
       "1      2  427.585409  599.101201   471.143810326269,539.9107245164855\n",
       "2      3  506.143810  617.375849   471.143810326269,569.9107245164855\n",
       "3      4  615.809154  554.910725  659.2998643756055,569.9107245164855\n",
       "0      1  510.100512  439.184607  545.1005121910266,460.1081545011157\n",
       "1      2  427.585409  599.101201   471.143810326269,569.9107245164855\n",
       "2      3  506.143810  617.375849   541.143810326269,569.9107245164855\n",
       "3      4  615.809154  554.910725  659.2998643756055,539.9107245164855"
      ]
     },
     "execution_count": 6,
     "metadata": {},
     "output_type": "execute_result"
    }
   ],
   "source": [
    "# set variables\n",
    "df_dimensions = pd.DataFrame(columns ={'dim_No','start_X','start_Y','end_X', 'end_Y','text_pos_X','text_pos_Y','first_point','second_point'})\n",
    "df_dimensions = df_dimensions[['dim_No','start_X','start_Y','end_X','end_Y','text_pos_X','text_pos_Y','first_point','second_point']]\n",
    "i=0\n",
    "\n",
    "#make the dataframe with dimensions data\n",
    "for dim in dims:\n",
    "    df_dimensions = df_dimensions.append({'dim_No': i+1 , \\\n",
    "                              'start_X': dim.ExtLine1Point[0],\n",
    "                              'start_Y': dim.ExtLine1Point[1],\n",
    "                              'end_X': dim.ExtLine2Point[0],\n",
    "                              'end_Y': dim.ExtLine2Point[1], \n",
    "                              'text_pos_X': dim.TextPosition[0], \n",
    "                              'text_pos_Y': dim.TextPosition[1],\n",
    "                              'first_point': f'{dim.ExtLine1Point[0]},{dim.ExtLine1Point[1]}',\n",
    "                              'second_point': f'{dim.ExtLine2Point[0]},{dim.ExtLine2Point[1]}'}, ignore_index=True)\n",
    "    i+=1\n",
    "\n",
    "\n",
    "# process dataframe\n",
    "df4 = df_dimensions.drop(columns = ['start_X','start_Y','end_X','end_Y'])\n",
    "df2 = pd.concat([(df4.drop(columns='second_point')),(df4.drop(columns='first_point'))],sort=False)\n",
    "# make 'point' feature. Make 2 rows for each dim_No. First row stores first coordinate on 1st place. Second row stores 2nd coordinate on 1st place\n",
    "points = pd.concat([df2.iloc[:,3],df2.iloc[:,4]]).dropna()\n",
    "points.name = 'point'\n",
    "df_dimensions = pd.concat([df2, points], axis=1) \\\n",
    "                    .drop(columns=['first_point', 'second_point'])\n",
    "\n",
    "df_dimensions\n",
    "\n",
    "# df2\n",
    "\n",
    "# df4 = df_dimensions.drop(columns = {'start_X','start_Y','end_X','end_Y'})\n",
    "# pd.merge((df4.drop(columns='second_point')),\\\n",
    "#           (df4.drop(columns='first_point')), \\\n",
    "#           how ='outer', \\\n",
    "#           left_on= 'first_point', \\\n",
    "#           right_on = 'second_point')"
   ]
  },
  {
   "cell_type": "code",
   "execution_count": 7,
   "metadata": {},
   "outputs": [],
   "source": [
    "df_device = df.rename(columns={'first_point':'point'})\\\n",
    "            .drop(columns=['start_att_line_X','end_att_line_X','start_att_line_Y','end_att_line_Y',\\\n",
    "                           'point_X','point_Y', 'horizontal']).drop_duplicates(subset= 'point')\n"
   ]
  },
  {
   "cell_type": "code",
   "execution_count": 8,
   "metadata": {},
   "outputs": [
    {
     "data": {
      "text/html": [
       "<div>\n",
       "<style scoped>\n",
       "    .dataframe tbody tr th:only-of-type {\n",
       "        vertical-align: middle;\n",
       "    }\n",
       "\n",
       "    .dataframe tbody tr th {\n",
       "        vertical-align: top;\n",
       "    }\n",
       "\n",
       "    .dataframe thead th {\n",
       "        text-align: right;\n",
       "    }\n",
       "</style>\n",
       "<table border=\"1\" class=\"dataframe\">\n",
       "  <thead>\n",
       "    <tr style=\"text-align: right;\">\n",
       "      <th></th>\n",
       "      <th>device</th>\n",
       "      <th>point</th>\n",
       "      <th>dim_No</th>\n",
       "      <th>text_pos_X</th>\n",
       "      <th>text_pos_Y</th>\n",
       "    </tr>\n",
       "  </thead>\n",
       "  <tbody>\n",
       "    <tr>\n",
       "      <th>0</th>\n",
       "      <td>0</td>\n",
       "      <td>471.143810326269,569.9107245164855</td>\n",
       "      <td>3</td>\n",
       "      <td>506.143810</td>\n",
       "      <td>617.375849</td>\n",
       "    </tr>\n",
       "    <tr>\n",
       "      <th>1</th>\n",
       "      <td>0</td>\n",
       "      <td>471.143810326269,569.9107245164855</td>\n",
       "      <td>2</td>\n",
       "      <td>427.585409</td>\n",
       "      <td>599.101201</td>\n",
       "    </tr>\n",
       "    <tr>\n",
       "      <th>2</th>\n",
       "      <td>0</td>\n",
       "      <td>541.143810326269,569.9107245164855</td>\n",
       "      <td>3</td>\n",
       "      <td>506.143810</td>\n",
       "      <td>617.375849</td>\n",
       "    </tr>\n",
       "    <tr>\n",
       "      <th>3</th>\n",
       "      <td>0</td>\n",
       "      <td>471.143810326269,539.9107245164855</td>\n",
       "      <td>2</td>\n",
       "      <td>427.585409</td>\n",
       "      <td>599.101201</td>\n",
       "    </tr>\n",
       "    <tr>\n",
       "      <th>4</th>\n",
       "      <td>0</td>\n",
       "      <td>541.143810326269,539.9107245164855</td>\n",
       "      <td>0</td>\n",
       "      <td>0.000000</td>\n",
       "      <td>0.000000</td>\n",
       "    </tr>\n",
       "    <tr>\n",
       "      <th>5</th>\n",
       "      <td>1</td>\n",
       "      <td>659.2998643756055,539.9107245164855</td>\n",
       "      <td>4</td>\n",
       "      <td>615.809154</td>\n",
       "      <td>554.910725</td>\n",
       "    </tr>\n",
       "    <tr>\n",
       "      <th>6</th>\n",
       "      <td>1</td>\n",
       "      <td>659.2998643756055,569.9107245164855</td>\n",
       "      <td>4</td>\n",
       "      <td>615.809154</td>\n",
       "      <td>554.910725</td>\n",
       "    </tr>\n",
       "    <tr>\n",
       "      <th>7</th>\n",
       "      <td>2</td>\n",
       "      <td>475.1005121910266,460.1081545011157</td>\n",
       "      <td>1</td>\n",
       "      <td>510.100512</td>\n",
       "      <td>439.184607</td>\n",
       "    </tr>\n",
       "    <tr>\n",
       "      <th>8</th>\n",
       "      <td>2</td>\n",
       "      <td>545.1005121910266,460.1081545011157</td>\n",
       "      <td>1</td>\n",
       "      <td>510.100512</td>\n",
       "      <td>439.184607</td>\n",
       "    </tr>\n",
       "  </tbody>\n",
       "</table>\n",
       "</div>"
      ],
      "text/plain": [
       "   device                                point  dim_No  text_pos_X  text_pos_Y\n",
       "0       0   471.143810326269,569.9107245164855       3  506.143810  617.375849\n",
       "1       0   471.143810326269,569.9107245164855       2  427.585409  599.101201\n",
       "2       0   541.143810326269,569.9107245164855       3  506.143810  617.375849\n",
       "3       0   471.143810326269,539.9107245164855       2  427.585409  599.101201\n",
       "4       0   541.143810326269,539.9107245164855       0    0.000000    0.000000\n",
       "5       1  659.2998643756055,539.9107245164855       4  615.809154  554.910725\n",
       "6       1  659.2998643756055,569.9107245164855       4  615.809154  554.910725\n",
       "7       2  475.1005121910266,460.1081545011157       1  510.100512  439.184607\n",
       "8       2  545.1005121910266,460.1081545011157       1  510.100512  439.184607"
      ]
     },
     "execution_count": 8,
     "metadata": {},
     "output_type": "execute_result"
    }
   ],
   "source": [
    "df= pd.merge(left = df_device, right = df_dimensions, how= 'outer', on='point')\n",
    "df= df.fillna(0)\n",
    "df['dim_No'] = df['dim_No'].astype(int)\n",
    "df"
   ]
  },
  {
   "cell_type": "code",
   "execution_count": 13,
   "metadata": {},
   "outputs": [],
   "source": [
    "sset = activedoc.SelectionSets.Add('ssSSET')"
   ]
  },
  {
   "cell_type": "code",
   "execution_count": 11,
   "metadata": {},
   "outputs": [
    {
     "ename": "NameError",
     "evalue": "name 'sset' is not defined",
     "output_type": "error",
     "traceback": [
      "\u001b[1;31m---------------------------------------------------------------------------\u001b[0m",
      "\u001b[1;31mNameError\u001b[0m                                 Traceback (most recent call last)",
      "\u001b[1;32m<ipython-input-11-4d86f712c16c>\u001b[0m in \u001b[0;36m<module>\u001b[1;34m\u001b[0m\n\u001b[1;32m----> 1\u001b[1;33m \u001b[0msset\u001b[0m\u001b[1;33m.\u001b[0m\u001b[0mClear\u001b[0m\u001b[1;33m(\u001b[0m\u001b[1;33m)\u001b[0m\u001b[1;33m\u001b[0m\u001b[1;33m\u001b[0m\u001b[0m\n\u001b[0m",
      "\u001b[1;31mNameError\u001b[0m: name 'sset' is not defined"
     ]
    }
   ],
   "source": [
    "sset.Clear()"
   ]
  },
  {
   "cell_type": "code",
   "execution_count": null,
   "metadata": {},
   "outputs": [],
   "source": [
    "#activedoc.SendCommand(\"(cdr (assoc 13 (entget (handent \" & \"\"\"\" & returnObj.Handle & \"\"\"\" & \"))))\" & vbCr)"
   ]
  },
  {
   "cell_type": "code",
   "execution_count": null,
   "metadata": {},
   "outputs": [],
   "source": []
  },
  {
   "cell_type": "code",
   "execution_count": null,
   "metadata": {},
   "outputs": [],
   "source": []
  },
  {
   "cell_type": "code",
   "execution_count": null,
   "metadata": {},
   "outputs": [],
   "source": []
  },
  {
   "cell_type": "code",
   "execution_count": null,
   "metadata": {},
   "outputs": [],
   "source": []
  },
  {
   "cell_type": "code",
   "execution_count": null,
   "metadata": {},
   "outputs": [],
   "source": [
    "#dont working\n",
    "#sset.AddItems(msp.Item(dim_rotated.Handle))\n",
    "#xtypeOut,xdataOut =0,0\n",
    "#xtypeOut,xdataOut = dim_rotated.GetXData('')\n",
    "#print(dim_rotated.GetXData(''))\n",
    "#aa = dim_rotated.GetXData('')\n",
    "#aa"
   ]
  },
  {
   "cell_type": "code",
   "execution_count": 14,
   "metadata": {},
   "outputs": [
    {
     "data": {
      "text/plain": [
       "0"
      ]
     },
     "execution_count": 14,
     "metadata": {},
     "output_type": "execute_result"
    }
   ],
   "source": [
    "#Make DXF file to parse \n",
    "filename= 'C:\\\\Users\\\\MSI\\\\Documents\\\\AutoCad_Project\\\\testfile'\n",
    "activedoc.Export(filename, 'DXF', sset)"
   ]
  },
  {
   "cell_type": "code",
   "execution_count": 53,
   "metadata": {},
   "outputs": [
    {
     "name": "stdout",
     "output_type": "stream",
     "text": [
      "line 6015 had a dimension\n",
      "line 6083 had a dimension\n",
      "line 6151 had a dimension\n",
      "line 6219 had a dimension\n",
      "line 6287 had a dimension\n",
      "line 6347 had a dimension\n",
      "{0: 6015, 1: 6083, 2: 6151, 3: 6219, 4: 6287, 5: 6347}\n",
      "Wall time: 15.6 ms\n"
     ]
    }
   ],
   "source": [
    "%%time\n",
    "#count dimensions in dxf. \n",
    "#TODO: need make a function\n",
    "dxf = open(filename + '.dxf', 'r')\n",
    "dic={}\n",
    "i,key=0,0\n",
    "\n",
    "\n",
    "for line in dxf:\n",
    "    if line=='DIMENSION\\n':\n",
    "        dic[key] = i\n",
    "        print('line '+ str(i) +' had a dimension')\n",
    "        key+=1        \n",
    "    i+=1\n",
    "   \n",
    "\n",
    " #dict=[line for line in dxf if line=='DIMENSION\\n']\n",
    "#print(dict)\n",
    "\n",
    "#data = dxf.readlines()\n",
    "#print(data)\n",
    "\n",
    "#data = dxf.readlines(70000)\n",
    "\n",
    "dxf.close()\n",
    "\n",
    "print(dic)"
   ]
  },
  {
   "cell_type": "code",
   "execution_count": 65,
   "metadata": {},
   "outputs": [
    {
     "name": "stdout",
     "output_type": "stream",
     "text": [
      "['DIMENSION\\n', '  5\\n', '1133\\n', '102\\n', '{ACAD_XDICTIONARY\\n', '360\\n', '1140\\n', '102\\n', '}\\n', '102\\n', '{ACAD_REACTORS\\n', '330\\n', '114A\\n', '102\\n', '}\\n', '330\\n', '1F\\n', '100\\n', 'AcDbEntity\\n', '  8\\n', 'dimensions\\n', '100\\n', 'AcDbDimension\\n', '280\\n', '     0\\n', '  2\\n', '*D4\\n', ' 10\\n', '545.1005121910266\\n', ' 20\\n', '426.184607317436\\n', ' 30\\n', '0.0\\n', ' 11\\n', '510.1005121910266\\n', ' 21\\n', '439.184607317436\\n', ' 31\\n', '0.0\\n', ' 70\\n', '    33\\n', ' 71\\n', '     5\\n', ' 42\\n', '70.0\\n', ' 73\\n', '     0\\n', ' 74\\n', '     0\\n', ' 75\\n', '     0\\n', '  3\\n', 'Copy of ISO-25\\n', '100\\n', 'AcDbAlignedDimension\\n', ' 13\\n', '475.1005121910266\\n', ' 23\\n', '460.1081545011156\\n', ' 33\\n', '0.0\\n', ' 14\\n', '545.1005121910266\\n', ' 24\\n', '460.1081545011156\\n', ' 34\\n', '0.0\\n', '  0\\n']\n",
      "['DIMENSION\\n', '  5\\n', '1169\\n', '102\\n', '{ACAD_XDICTIONARY\\n', '360\\n', '1177\\n', '102\\n', '}\\n', '102\\n', '{ACAD_REACTORS\\n', '330\\n', '1182\\n', '102\\n', '}\\n', '330\\n', '1F\\n', '100\\n', 'AcDbEntity\\n', '  8\\n', 'dimensions\\n', '100\\n', 'AcDbDimension\\n', '280\\n', '     0\\n', '  2\\n', '*D5\\n', ' 10\\n', '440.5854092242077\\n', ' 20\\n', '569.9107245164855\\n', ' 30\\n', '0.0\\n', ' 11\\n', '427.5854092242076\\n', ' 21\\n', '599.1012007069618\\n', ' 31\\n', '0.0\\n', ' 70\\n', '    33\\n', ' 71\\n', '     5\\n', ' 42\\n', '30.0\\n', ' 73\\n', '     0\\n', ' 74\\n', '     0\\n', ' 75\\n', '     0\\n', '  3\\n', 'Copy of ISO-25\\n', '100\\n', 'AcDbAlignedDimension\\n', ' 13\\n', '471.143810326269\\n', ' 23\\n', '539.9107245164855\\n', ' 33\\n', '0.0\\n', ' 14\\n', '471.143810326269\\n', ' 24\\n', '569.9107245164855\\n', ' 34\\n', '0.0\\n', '  0\\n']\n",
      "['DIMENSION\\n', '  5\\n', '1183\\n', '102\\n', '{ACAD_XDICTIONARY\\n', '360\\n', '1190\\n', '102\\n', '}\\n', '102\\n', '{ACAD_REACTORS\\n', '330\\n', '119A\\n', '102\\n', '}\\n', '330\\n', '1F\\n', '100\\n', 'AcDbEntity\\n', '  8\\n', 'dimensions\\n', '100\\n', 'AcDbDimension\\n', '280\\n', '     0\\n', '  2\\n', '*D6\\n', ' 10\\n', '541.1438103262689\\n', ' 20\\n', '604.3758490822977\\n', ' 30\\n', '0.0\\n', ' 11\\n', '506.1438103262689\\n', ' 21\\n', '617.3758490822977\\n', ' 31\\n', '0.0\\n', ' 70\\n', '    33\\n', ' 71\\n', '     5\\n', ' 42\\n', '70.0\\n', ' 73\\n', '     0\\n', ' 74\\n', '     0\\n', ' 75\\n', '     0\\n', '  3\\n', 'Copy of ISO-25\\n', '100\\n', 'AcDbAlignedDimension\\n', ' 13\\n', '471.143810326269\\n', ' 23\\n', '569.9107245164855\\n', ' 33\\n', '0.0\\n', ' 14\\n', '541.1438103262689\\n', ' 24\\n', '569.9107245164855\\n', ' 34\\n', '0.0\\n', '  0\\n']\n",
      "['DIMENSION\\n', '  5\\n', '119B\\n', '102\\n', '{ACAD_XDICTIONARY\\n', '360\\n', '11A9\\n', '102\\n', '}\\n', '102\\n', '{ACAD_REACTORS\\n', '330\\n', '11B4\\n', '102\\n', '}\\n', '330\\n', '1F\\n', '100\\n', 'AcDbEntity\\n', '  8\\n', 'dimensions\\n', '100\\n', 'AcDbDimension\\n', '280\\n', '     0\\n', '  2\\n', '*D7\\n', ' 10\\n', '615.8091542669414\\n', ' 20\\n', '539.9107245164855\\n', ' 30\\n', '0.0\\n', ' 11\\n', '615.8091542669414\\n', ' 21\\n', '554.9107245164856\\n', ' 31\\n', '0.0\\n', ' 70\\n', '   161\\n', ' 71\\n', '     5\\n', ' 42\\n', '30.0\\n', ' 73\\n', '     0\\n', ' 74\\n', '     0\\n', ' 75\\n', '     0\\n', '  3\\n', 'Copy of ISO-25\\n', '100\\n', 'AcDbAlignedDimension\\n', ' 13\\n', '659.2998643756054\\n', ' 23\\n', '569.9107245164855\\n', ' 33\\n', '0.0\\n', ' 14\\n', '659.2998643756054\\n', ' 24\\n', '539.9107245164855\\n', ' 34\\n', '0.0\\n', '  0\\n']\n",
      "['DIMENSION\\n', '  5\\n', '12CA\\n', '330\\n', '1F\\n', '100\\n', 'AcDbEntity\\n', '  8\\n', 'dimensions\\n', '100\\n', 'AcDbDimension\\n', '280\\n', '     0\\n', '  2\\n', '*D9\\n', ' 10\\n', '993.0235284188212\\n', ' 20\\n', '499.9070836095795\\n', ' 30\\n', '0.0\\n', ' 11\\n', '978.0044288280979\\n', ' 21\\n', '572.9564777363434\\n', ' 31\\n', '0.0\\n', ' 70\\n', '    32\\n', ' 71\\n', '     5\\n', ' 42\\n', '146.0987882535276\\n', ' 73\\n', '     0\\n', ' 74\\n', '     0\\n', ' 75\\n', '     0\\n', '  3\\n', 'Copy of ISO-25\\n', '100\\n', 'AcDbAlignedDimension\\n', ' 13\\n', '1042.471677876464\\n', ' 23\\n', '646.0058718631071\\n', ' 33\\n', '0.0\\n', ' 14\\n', '1042.471677876464\\n', ' 24\\n', '499.9070836095795\\n', ' 34\\n', '0.0\\n', ' 50\\n', '90.0\\n', '100\\n', 'AcDbRotatedDimension\\n', '  0\\n']\n",
      "['DIMENSION\\n', '  5\\n', '12FD\\n', '330\\n', '1F\\n', '100\\n', 'AcDbEntity\\n', '  8\\n', 'dimensions\\n', '100\\n', 'AcDbDimension\\n', '280\\n', '     0\\n', '  2\\n', '*D10\\n', ' 10\\n', '908.1927559359421\\n', ' 20\\n', '705.5694638773409\\n', ' 30\\n', '0.0\\n', ' 11\\n', '737.5576706614935\\n', ' 21\\n', '705.5694638773409\\n', ' 31\\n', '0.0\\n', ' 70\\n', '   160\\n', ' 71\\n', '     5\\n', ' 42\\n', '124.3676910043259\\n', ' 73\\n', '     0\\n', ' 74\\n', '     0\\n', ' 75\\n', '     0\\n', '  3\\n', 'Copy of ISO-25\\n', '100\\n', 'AcDbAlignedDimension\\n', ' 13\\n', '783.8250649316162\\n', ' 23\\n', '657.3860282417479\\n', ' 33\\n', '0.0\\n', ' 14\\n', '908.1927559359421\\n', ' 24\\n', '657.3860282417479\\n', ' 34\\n', '0.0\\n', '100\\n', 'AcDbRotatedDimension\\n', '  0\\n', 'ENDSEC\\n', '  0\\n', 'SECTION\\n', '  2\\n', 'OBJECTS\\n', '  0\\n', 'DICTIONARY\\n', '  5\\n', 'C\\n', '330\\n']\n",
      "Wall time: 0 ns\n"
     ]
    }
   ],
   "source": [
    "#get the info about each dimension\n",
    "%%time\n",
    "dxf = open(filename + '.dxf', 'r')\n",
    "i=0\n",
    "data = dxf.readlines()\n",
    "for d in dic:\n",
    "    print(data[dic[d]:dic[d]+60])\\\n",
    "    if ((data[dic[d]+58])=='AcDbRotatedDimension\\n') \\\n",
    "    else print(data[dic[d]:dic[d]+68])\n",
    "dxf.close()"
   ]
  },
  {
   "cell_type": "code",
   "execution_count": 62,
   "metadata": {},
   "outputs": [
    {
     "data": {
      "text/plain": [
       "6151"
      ]
     },
     "execution_count": 62,
     "metadata": {},
     "output_type": "execute_result"
    }
   ],
   "source": [
    "dic[i+2]"
   ]
  },
  {
   "cell_type": "code",
   "execution_count": null,
   "metadata": {},
   "outputs": [],
   "source": []
  },
  {
   "cell_type": "code",
   "execution_count": null,
   "metadata": {},
   "outputs": [],
   "source": []
  },
  {
   "cell_type": "code",
   "execution_count": null,
   "metadata": {},
   "outputs": [],
   "source": [
    "print(dim_aligned.ExtLine1Point[0])\n",
    "print(dim_aligned.ExtLine2Point)\n",
    "print(dim_aligned.TextPosition)"
   ]
  },
  {
   "cell_type": "code",
   "execution_count": null,
   "metadata": {},
   "outputs": [],
   "source": [
    "# Довольно неочевидно, как взрывать размеры, не используя vba или lisp. Здесь надо будет добыть имя блока размера для метода explode.\n",
    "# for item in msp:\n",
    "#     if item.ObjectName == 'AcAlignedDimension':\n",
    "#         #find BLOCK object by given BlockRef\n",
    "#         activedoc.Blocks.Item(item.     )\n",
    "#         #item.Explode(item.ObjectID)\n",
    "\n",
    "#         print (item.ObjectID) "
   ]
  },
  {
   "cell_type": "code",
   "execution_count": null,
   "metadata": {},
   "outputs": [],
   "source": [
    "\n"
   ]
  },
  {
   "cell_type": "code",
   "execution_count": null,
   "metadata": {},
   "outputs": [],
   "source": []
  },
  {
   "cell_type": "markdown",
   "metadata": {},
   "source": [
    "Использовать фичу DIMATFIT \n",
    "\n",
    "вариант добычи точек привязки rotated размера - экспорт в dwf https://adn-cis.org/forum/index.php?topic=8448.msg31681#msg31681\n",
    "И не забыть SelectionSet"
   ]
  },
  {
   "cell_type": "code",
   "execution_count": null,
   "metadata": {},
   "outputs": [],
   "source": []
  },
  {
   "cell_type": "code",
   "execution_count": null,
   "metadata": {},
   "outputs": [],
   "source": []
  },
  {
   "cell_type": "code",
   "execution_count": null,
   "metadata": {},
   "outputs": [],
   "source": []
  },
  {
   "cell_type": "code",
   "execution_count": null,
   "metadata": {},
   "outputs": [],
   "source": [
    "def FindAttachmentPoint(data):\n",
    "    \"\"\"This function converts given data to the coordinates of attachment points. \n",
    "    \n",
    "    data: dataframe with coordinates of lines in layer 'attachment point'\n",
    "    \n",
    "    return\n",
    "    \"\"\"\n",
    "    #FindAttachmentPoint(df[df['device']==device])\n",
    "    print(f'data:\\n{data}')\n",
    "    print(data.iloc[[0]])\n",
    "\n",
    "\n",
    "def MakeDimVertical(msp, point1, point2, loc):\n",
    "    \"\"\"This function make vertical dimension.\n",
    "    \n",
    "    msp:  model space\n",
    "    point1, point2: points of dimention\n",
    "    loc - location of dimension\n",
    "    \"\"\"\n",
    "    pass\n",
    "    \n",
    "\n",
    "def MakeDimHorizontal(msp, point1, point2, loc):\n",
    "    \"\"\"This function make horizontal dimension.\n",
    "    \n",
    "    msp:  model space\n",
    "    point1, point2: points of dimention\n",
    "    loc - location of dimension\n",
    "    \"\"\"\n",
    "    pass\n",
    "\n",
    "def ProcessAttachmentPoints(msp, objects):\n",
    "    \"\"\"This function make coordinates of attachment points.\n",
    "    \n",
    "    msp:  model space\n",
    "    objects:  lines from specified layer\n",
    "    \"\"\"\n",
    "    pass\n"
   ]
  },
  {
   "cell_type": "code",
   "execution_count": null,
   "metadata": {},
   "outputs": [],
   "source": [
    "stop\n",
    "# ActiveX usage examples\n",
    "pt = array.array('d', [0,0,0]) # convert to variant\n",
    "point = msp.AddPoint(pt)\n",
    "# Add a LINE\n",
    "pt1 = array.array('d', [0.0,0.0,0]) # start point\n",
    "pt2 = array.array('d', [20.0,20.0,0]) # end point\n",
    "line = msp.AddLine(pt1, pt2)"
   ]
  },
  {
   "cell_type": "code",
   "execution_count": null,
   "metadata": {},
   "outputs": [],
   "source": [
    "s1 =  array.array('d', [500.0, 800.0, 0.0])\n",
    "s2 =  array.array('d', [500.0, 1200.0, 0.0])\n",
    "loc = array.array('d', [400.0, 1000.0, 0.0])\n",
    "new_dim = msp.AddDimAligned(s1, s2, loc)\n",
    "new_dim.update()"
   ]
  },
  {
   "cell_type": "code",
   "execution_count": null,
   "metadata": {},
   "outputs": [],
   "source": [
    "\n"
   ]
  },
  {
   "cell_type": "code",
   "execution_count": null,
   "metadata": {},
   "outputs": [],
   "source": [
    "df = pd.read_excel('E://Python/RubinProject/Journal.xlsx')"
   ]
  },
  {
   "cell_type": "code",
   "execution_count": null,
   "metadata": {},
   "outputs": [],
   "source": [
    "# import win32com.client\n",
    "# acad = win32com.client.Dispatch(\"AutoCAD.Application\")\n",
    "\n",
    "# doc = acad.ActiveDocument   # Document object\n",
    "\n",
    "\n",
    "# # iterate trough all objects (entities) in the currently opened drawing\n",
    "# # and if its a BlockReference, display its attributes and some other things.\n",
    "# for entity in acad.ActiveDocument.ModelSpace:\n",
    "#     name = entity.EntityName\n",
    "#     if name == 'AcDbBlockReference':\n",
    "#         HasAttributes = entity.HasAttributes\n",
    "#         if HasAttributes:\n",
    "#             print(entity.Name)\n",
    "#             print(entity.Layer)\n",
    "#             print(entity.ObjectID)\n",
    "#             for attrib in entity.GetAttributes():\n",
    "#                 print(\"  {}: {}\".format(attrib.TagString, attrib.TextString))\n",
    "                \n",
    "#                 # update text\n",
    "#                 attrib.TextString = 'modified with python'\n",
    "#                 attrib.Update()"
   ]
  },
  {
   "cell_type": "code",
   "execution_count": null,
   "metadata": {},
   "outputs": [],
   "source": [
    "     \n",
    "    #explode blocks\n",
    "#    elif item.ObjectName == 'AcDbBlockReference':       \n",
    "#         try:\n",
    "#             print(f'Found a block.\\n')\n",
    "#             block = item\n",
    "#             block.Explode()\n",
    "#         except:\n",
    "#             pass    # here we have some VARIANT bug. So just proceed.\n",
    "#         i+=1"
   ]
  },
  {
   "cell_type": "markdown",
   "metadata": {},
   "source": [
    "Фичи размеров в качестве таргетов:\n",
    "- TextPosition (rotated размеры тоже их имеют)"
   ]
  },
  {
   "cell_type": "markdown",
   "metadata": {},
   "source": [
    "Запасной вариант- взрывать все размеры, вытаскивать параметры линий, и таким образом получать координаты точек привязки размера, а заодно и координаты текста. Возможно, придётся так и сделать, чтобы обеспечить непересекаемоть размеров и других линий чертежа, типа линий габаритки"
   ]
  },
  {
   "cell_type": "code",
   "execution_count": null,
   "metadata": {},
   "outputs": [],
   "source": []
  },
  {
   "cell_type": "code",
   "execution_count": null,
   "metadata": {},
   "outputs": [],
   "source": []
  },
  {
   "cell_type": "markdown",
   "metadata": {},
   "source": [
    "todo:\n",
    "\n",
    "точка крепления может быть не посередине линии соответствующего слоя, а где-то на пересечении с линией прибора. Сделать проверку на небольшое отклонение и выдать сообщение чтобы поправили чертёж\n",
    "\n",
    "Как взрывать rotated размеры для извлечения координат точек - неочевидно. Xdata добыть заморочно, но зато там сразу готовые данные размера. Стоит начать с xdata"
   ]
  }
 ],
 "metadata": {
  "kernelspec": {
   "display_name": "Python 3",
   "language": "python",
   "name": "python3"
  },
  "language_info": {
   "codemirror_mode": {
    "name": "ipython",
    "version": 3
   },
   "file_extension": ".py",
   "mimetype": "text/x-python",
   "name": "python",
   "nbconvert_exporter": "python",
   "pygments_lexer": "ipython3",
   "version": "3.7.3"
  }
 },
 "nbformat": 4,
 "nbformat_minor": 4
}
