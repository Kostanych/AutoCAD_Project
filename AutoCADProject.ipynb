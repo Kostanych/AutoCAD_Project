{
 "cells": [
  {
   "cell_type": "markdown",
   "metadata": {},
   "source": [
    "# AutoCAD MegaIntellegence Project\n",
    "## Начало.\n",
    "$$успех = усердие + время$$"
   ]
  },
  {
   "cell_type": "code",
   "execution_count": 1,
   "metadata": {},
   "outputs": [],
   "source": [
    "import win32com.client\n",
    "import comtypes.client\n",
    "import numpy as np\n",
    "import pandas as pd\n",
    "import math\n",
    "import array\n",
    "\n",
    "app = comtypes.client.GetActiveObject('AutoCAD.Application')\n",
    "#app = win32com.client.Dispatch(\"AutoCAD.Application\")\n",
    "aDoc = app.ActiveDocument\n",
    "mSp =aDoc.ModelSpace"
   ]
  },
  {
   "cell_type": "code",
   "execution_count": 2,
   "metadata": {},
   "outputs": [],
   "source": [
    "# import win32com.client\n",
    "# acad = win32com.client.Dispatch(\"AutoCAD.Application\")\n",
    "\n",
    "# doc = acad.ActiveDocument   # Document object\n",
    "\n",
    "\n",
    "# # iterate trough all objects (entities) in the currently opened drawing\n",
    "# # and if its a BlockReference, display its attributes and some other things.\n",
    "# for entity in acad.ActiveDocument.ModelSpace:\n",
    "#     name = entity.EntityName\n",
    "#     if name == 'AcDbBlockReference':\n",
    "#         HasAttributes = entity.HasAttributes\n",
    "#         if HasAttributes:\n",
    "#             print(entity.Name)\n",
    "#             print(entity.Layer)\n",
    "#             print(entity.ObjectID)\n",
    "#             for attrib in entity.GetAttributes():\n",
    "#                 print(\"  {}: {}\".format(attrib.TagString, attrib.TextString))\n",
    "                \n",
    "#                 # update text\n",
    "#                 attrib.TextString = 'modified with python'\n",
    "#                 attrib.Update()"
   ]
  },
  {
   "cell_type": "code",
   "execution_count": null,
   "metadata": {},
   "outputs": [],
   "source": []
  },
  {
   "cell_type": "code",
   "execution_count": 3,
   "metadata": {},
   "outputs": [
    {
     "data": {
      "text/plain": [
       "b'B\\r\\r\\n'"
      ]
     },
     "execution_count": 3,
     "metadata": {},
     "output_type": "execute_result"
    }
   ],
   "source": [
    "import pythoncom as pc\n",
    "pc.pywintypes.imp.get_magic()"
   ]
  },
  {
   "cell_type": "code",
   "execution_count": 4,
   "metadata": {},
   "outputs": [
    {
     "name": "stdout",
     "output_type": "stream",
     "text": [
      "<POINTER(IAcadDimAligned) ptr=0x7027c08 at 8dd8748>\n",
      "<POINTER(IAcadDimRotated) ptr=0x70270a8 at 8dd80c8>\n"
     ]
    }
   ],
   "source": [
    "app = comtypes.client.GetActiveObject('AutoCAD.Application')\n",
    "aDoc = app.ActiveDocument\n",
    "mSp =aDoc.ModelSpace\n",
    "dim_aligned, dim_rotated = 0,0\n",
    "\n",
    "for item in mSp:\n",
    "    #print(f'got an item: {item}')\n",
    "    #print(item.ObjectName)\n",
    "    #print(item._methods_)\n",
    "    if item.ObjectName =='AcDbRotatedDimension':\n",
    "        #print('found aligned dimention: ')\n",
    "        dim_rotated = item\n",
    "    elif item.ObjectName == 'AcDbAlignedDimension':\n",
    "        #print('found rotated dimention: ')\n",
    "        dim_aligned = item\n",
    "        \n",
    "        #print(f'Start point: {item.StartPoint}')\n",
    "print(dim_aligned)\n",
    "print(dim_rotated)\n",
    "\n"
   ]
  },
  {
   "cell_type": "code",
   "execution_count": 18,
   "metadata": {},
   "outputs": [
    {
     "data": {
      "text/plain": [
       "0"
      ]
     },
     "execution_count": 18,
     "metadata": {},
     "output_type": "execute_result"
    }
   ],
   "source": [
    "dim_rotated.GetXData('AutoCAD.Application')\n",
    "dim_rotated.TextPosition = array.array('d', [450.0, 550.0, 0.0])\n",
    "dim_rotated.update()\n",
    "dim_rotated"
   ]
  },
  {
   "cell_type": "code",
   "execution_count": 6,
   "metadata": {},
   "outputs": [],
   "source": [
    "pt = array.array('d', [0,0,0]) # to convert in variant\n",
    "point = mSp.AddPoint(pt)\n",
    "# Add a LINE\n",
    "pt1 = array.array('d', [0.0,0.0,0]) # start point\n",
    "pt2 = array.array('d', [20.0,20.0,0]) # end point\n",
    "line = mSp.AddLine(pt1, pt2)"
   ]
  },
  {
   "cell_type": "code",
   "execution_count": 8,
   "metadata": {},
   "outputs": [
    {
     "data": {
      "text/plain": [
       "0"
      ]
     },
     "execution_count": 8,
     "metadata": {},
     "output_type": "execute_result"
    }
   ],
   "source": [
    "s1 =  array.array('d', [500.0, 800.0, 0.0])\n",
    "s2 =  array.array('d', [500.0, 1200.0, 0.0])\n",
    "loc = array.array('d', [500.0, 1000.0, 0.0])\n",
    "new_dim = mSp.AddDimAligned(s1, s2, loc)\n",
    "new_dim.update()"
   ]
  },
  {
   "cell_type": "code",
   "execution_count": 7,
   "metadata": {},
   "outputs": [
    {
     "ename": "SyntaxError",
     "evalue": "invalid syntax (<ipython-input-7-85fff871814e>, line 1)",
     "output_type": "error",
     "traceback": [
      "\u001b[1;36m  File \u001b[1;32m\"<ipython-input-7-85fff871814e>\"\u001b[1;36m, line \u001b[1;32m1\u001b[0m\n\u001b[1;33m    dim.\u001b[0m\n\u001b[1;37m        ^\u001b[0m\n\u001b[1;31mSyntaxError\u001b[0m\u001b[1;31m:\u001b[0m invalid syntax\n"
     ]
    }
   ],
   "source": [
    "dim.\n"
   ]
  },
  {
   "cell_type": "code",
   "execution_count": 24,
   "metadata": {},
   "outputs": [],
   "source": [
    "acad = win32com.client.Dispatch(\"AutoCAD.Application\")\n",
    "\n",
    "doc = acad.ActiveDocument   # Document object\n",
    "\n",
    "\n",
    "# iterate trough all objects (entities) in the currently opened drawing\n",
    "# and if its a BlockReference, display its attributes and some other things.\n",
    "for entity in acad.ActiveDocument.ModelSpace:\n",
    "    name = entity.EntityName\n",
    "    if name == 'AcDbBlockReference':\n",
    "        HasAttributes = entity.HasAttributes\n",
    "        if HasAttributes:\n",
    "            print(entity.Name)\n",
    "            print(entity.Layer)\n",
    "            print(entity.ObjectID)\n",
    "            for attrib in entity.GetAttributes():\n",
    "                print(\"  {}: {}\".format(attrib.TagString, attrib.TextString))\n",
    "                \n",
    "                # update text\n",
    "                attrib.TextString = 'modified with python'\n",
    "                attribib.Update()"
   ]
  },
  {
   "cell_type": "code",
   "execution_count": null,
   "metadata": {},
   "outputs": [],
   "source": [
    "df = pd.read_excel('E://Python/RubinProject/Journal.xlsx')"
   ]
  },
  {
   "cell_type": "code",
   "execution_count": 31,
   "metadata": {},
   "outputs": [
    {
     "data": {
      "text/plain": [
       "<function __main__.make_dim_vertical(point1, point2, loc)>"
      ]
     },
     "execution_count": 31,
     "metadata": {},
     "output_type": "execute_result"
    }
   ],
   "source": [
    "make_dim_vertical()"
   ]
  },
  {
   "cell_type": "code",
   "execution_count": 23,
   "metadata": {},
   "outputs": [
    {
     "ename": "NameError",
     "evalue": "name 'df' is not defined",
     "output_type": "error",
     "traceback": [
      "\u001b[1;31m---------------------------------------------------------------------------\u001b[0m",
      "\u001b[1;31mNameError\u001b[0m                                 Traceback (most recent call last)",
      "\u001b[1;32m<ipython-input-23-8731cc420581>\u001b[0m in \u001b[0;36m<module>\u001b[1;34m\u001b[0m\n\u001b[1;32m----> 1\u001b[1;33m df = df.rename({'Имя прибора': 'prib_name',\n\u001b[0m\u001b[0;32m      2\u001b[0m                'Индекс по схеме': 'shema_index'},\n\u001b[0;32m      3\u001b[0m                axis=1)\n",
      "\u001b[1;31mNameError\u001b[0m: name 'df' is not defined"
     ]
    }
   ],
   "source": [
    "df = df.rename({'Имя прибора': 'prib_name',\n",
    "               'Индекс по схеме': 'shema_index'},\n",
    "               axis=1)"
   ]
  },
  {
   "cell_type": "code",
   "execution_count": null,
   "metadata": {},
   "outputs": [],
   "source": []
  },
  {
   "cell_type": "code",
   "execution_count": null,
   "metadata": {},
   "outputs": [],
   "source": []
  },
  {
   "cell_type": "code",
   "execution_count": 32,
   "metadata": {},
   "outputs": [],
   "source": [
    "def make_dim_vertical(msp, point1, point2, loc):\n",
    "    \"\"\"This function make vertical dimension.\n",
    "    \n",
    "    msp:  model space\n",
    "    point1, point2: points of dimention\n",
    "    loc - location of dimension\n",
    "    \"\"\"\n",
    "    pass\n",
    "    \n",
    "\n",
    "def make_dim_horizontal(point1, point2, loc):\n",
    "    \"\"\"This function make horizontal dimension.\n",
    "    \n",
    "    msp:  model space\n",
    "    point1, point2: points of dimention\n",
    "    loc - location of dimension\n",
    "    \"\"\"\n",
    "    pass"
   ]
  },
  {
   "cell_type": "markdown",
   "metadata": {},
   "source": [
    "Фичи размеров в качестве таргетов:\n",
    "- TextPosition (rotated размеры тоже их имеют)"
   ]
  },
  {
   "cell_type": "markdown",
   "metadata": {},
   "source": [
    "Запасной вариант- взрывать кхерам все размеры, вытаскивать параметры линий, и таким образом получать координаты точек привязки размера, а заодно и координаты текста. Наверное, придётся так и сделать, чтобы обеспечить непересекаемоть размеров и других линий чертежа, типа линий габаритки"
   ]
  },
  {
   "cell_type": "code",
   "execution_count": null,
   "metadata": {},
   "outputs": [],
   "source": []
  },
  {
   "cell_type": "code",
   "execution_count": null,
   "metadata": {},
   "outputs": [],
   "source": []
  },
  {
   "cell_type": "code",
   "execution_count": null,
   "metadata": {},
   "outputs": [],
   "source": []
  }
 ],
 "metadata": {
  "kernelspec": {
   "display_name": "Python 3",
   "language": "python",
   "name": "python3"
  },
  "language_info": {
   "codemirror_mode": {
    "name": "ipython",
    "version": 3
   },
   "file_extension": ".py",
   "mimetype": "text/x-python",
   "name": "python",
   "nbconvert_exporter": "python",
   "pygments_lexer": "ipython3",
   "version": "3.7.4"
  }
 },
 "nbformat": 4,
 "nbformat_minor": 4
}
