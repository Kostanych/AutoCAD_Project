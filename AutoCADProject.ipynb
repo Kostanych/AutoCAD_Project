{
 "cells": [
  {
   "cell_type": "markdown",
   "metadata": {},
   "source": [
    "# AutoCAD MegaIntellegence Project\n",
    "  Предназначено для ускорения работы с конструкторскими чертежами. Машинное обучение позволит убрать рутинные операции. Программа должна проставлять размеры на точки крепления к приборам, с учётом всех требований. Это первая задача. С имеющейся базой можно расширить применение на другие задачи работы с dwg чертежами.\n",
    "  \n",
    "  Проект читает $хорошие$ чертежи, обучается на существующих позициях размеров. X - линии в слое с точками крепления, пересечение с линиями прибора. y - базовые точки размеров, положение текста\n",
    "  \n",
    "  Первая версия: будет один вид, нужно проставить все размеры на 1 виде.\n",
    "  \n",
    "$$успех = усердие + время$$"
   ]
  },
  {
   "cell_type": "code",
   "execution_count": 1,
   "metadata": {},
   "outputs": [],
   "source": [
    "\n",
    "import win32com.client\n",
    "import comtypes.client\n",
    "import numpy as np\n",
    "import pandas as pd\n",
    "import math\n",
    "import array\n",
    "\n",
    "app = comtypes.client.GetActiveObject('AutoCAD.Application')\n",
    "#app = win32com.client.Dispatch(\"AutoCAD.Application\")\n",
    "activedoc = app.ActiveDocument\n",
    "msp =activedoc.ModelSpace"
   ]
  },
  {
   "cell_type": "code",
   "execution_count": 2,
   "metadata": {},
   "outputs": [
    {
     "name": "stdout",
     "output_type": "stream",
     "text": [
      "<POINTER(IAcadModelSpace) ptr=0x29e06a33468 at 29e0853f848>\n",
      "<POINTER(IAcadPaperSpace) ptr=0x29e04b99d38 at 29e0848c948>\n",
      "<POINTER(IAcadBlock) ptr=0x29e04b3bb08 at 29e0848cb48>\n",
      "<POINTER(IAcadBlock) ptr=0x29e04b990f8 at 29e0848cbc8>\n",
      "<POINTER(IAcadBlock) ptr=0x29e06a332a8 at 29e0848cac8>\n",
      "<POINTER(IAcadBlock) ptr=0x29e04b3b638 at 29e0853f848>\n",
      "<POINTER(IAcadBlock) ptr=0x29e04b99b78 at 29e0848c6c8>\n",
      "<POINTER(IAcadBlock) ptr=0x29e06a33d98 at 29e0853f848>\n"
     ]
    }
   ],
   "source": [
    "for blk in activedoc.Blocks:\n",
    "    print(blk)\n",
    "#    for ent in blk:\n",
    "#         print(ent)"
   ]
  },
  {
   "cell_type": "code",
   "execution_count": 30,
   "metadata": {},
   "outputs": [
    {
     "name": "stdout",
     "output_type": "stream",
     "text": [
      "Block name: <POINTER(IAcadBlock) ptr=0x29e07119098 at 29e09a0e7c8>\n",
      "Block name: <POINTER(IAcadBlock) ptr=0x29e07118a78 at 29e09a0e448>\n",
      "Block name: <POINTER(IAcadBlock) ptr=0x29e06a33d98 at 29e09a0e0c8>\n"
     ]
    }
   ],
   "source": [
    "# set variables\n",
    "df = pd.DataFrame(columns ={'device','start_att_line_X', 'end_att_line_X','start_att_line_Y', 'end_att_line_Y'})\n",
    "df = df[['device','start_att_line_X', 'end_att_line_X','start_att_line_Y', 'end_att_line_Y']]\n",
    "dim_aligned, dim_rotated, blockref, i,= 0,0,0,0\n",
    "# view each object in ModelSpace\n",
    "for item in msp:\n",
    "    #TODO: need to check if that actually device block\n",
    "    #if it's a device:\n",
    "    if item.ObjectName == 'AcDbBlockReference':\n",
    "        #find BLOCK object by given BlockRef\n",
    "        block = activedoc.Blocks.Item(item.Name)\n",
    "        print (f'Block name: {block}')\n",
    "        for element in block:\n",
    "            if element.Layer ==\"attachment point\":\n",
    "                # fill the dataframe with the coordinates of the attachment points\n",
    "                  df = df.append({'device': i, \\\n",
    "                                'start_att_line_X': element.StartPoint[0] + item.InsertionPoint[0], \\\n",
    "                                'start_att_line_Y': element.StartPoint[1] + item.InsertionPoint[1], \\\n",
    "                                'end_att_line_X': element.EndPoint[0] + item.InsertionPoint[0],\\\n",
    "                                'end_att_line_Y': element.EndPoint[1] + item.InsertionPoint[1]},  ignore_index=True)\n",
    "        i+=1\n",
    "                \n",
    "df['device'] = df['device'].astype(int)\n"
   ]
  },
  {
   "cell_type": "code",
   "execution_count": 31,
   "metadata": {},
   "outputs": [
    {
     "data": {
      "text/html": [
       "<div>\n",
       "<style scoped>\n",
       "    .dataframe tbody tr th:only-of-type {\n",
       "        vertical-align: middle;\n",
       "    }\n",
       "\n",
       "    .dataframe tbody tr th {\n",
       "        vertical-align: top;\n",
       "    }\n",
       "\n",
       "    .dataframe thead th {\n",
       "        text-align: right;\n",
       "    }\n",
       "</style>\n",
       "<table border=\"1\" class=\"dataframe\">\n",
       "  <thead>\n",
       "    <tr style=\"text-align: right;\">\n",
       "      <th></th>\n",
       "      <th>device</th>\n",
       "      <th>start_att_line_X</th>\n",
       "      <th>end_att_line_X</th>\n",
       "      <th>start_att_line_Y</th>\n",
       "      <th>end_att_line_Y</th>\n",
       "    </tr>\n",
       "  </thead>\n",
       "  <tbody>\n",
       "    <tr>\n",
       "      <th>0</th>\n",
       "      <td>0</td>\n",
       "      <td>468.643810</td>\n",
       "      <td>473.643810</td>\n",
       "      <td>569.910725</td>\n",
       "      <td>569.910725</td>\n",
       "    </tr>\n",
       "    <tr>\n",
       "      <th>1</th>\n",
       "      <td>0</td>\n",
       "      <td>471.143810</td>\n",
       "      <td>471.143810</td>\n",
       "      <td>572.410725</td>\n",
       "      <td>567.410725</td>\n",
       "    </tr>\n",
       "    <tr>\n",
       "      <th>2</th>\n",
       "      <td>0</td>\n",
       "      <td>538.643810</td>\n",
       "      <td>543.643810</td>\n",
       "      <td>569.910725</td>\n",
       "      <td>569.910725</td>\n",
       "    </tr>\n",
       "    <tr>\n",
       "      <th>3</th>\n",
       "      <td>0</td>\n",
       "      <td>541.143810</td>\n",
       "      <td>541.143810</td>\n",
       "      <td>572.410725</td>\n",
       "      <td>567.410725</td>\n",
       "    </tr>\n",
       "    <tr>\n",
       "      <th>4</th>\n",
       "      <td>0</td>\n",
       "      <td>468.643810</td>\n",
       "      <td>473.643810</td>\n",
       "      <td>539.910725</td>\n",
       "      <td>539.910725</td>\n",
       "    </tr>\n",
       "    <tr>\n",
       "      <th>5</th>\n",
       "      <td>0</td>\n",
       "      <td>471.143810</td>\n",
       "      <td>471.143810</td>\n",
       "      <td>542.410725</td>\n",
       "      <td>537.410725</td>\n",
       "    </tr>\n",
       "    <tr>\n",
       "      <th>6</th>\n",
       "      <td>0</td>\n",
       "      <td>538.643810</td>\n",
       "      <td>543.643810</td>\n",
       "      <td>539.910725</td>\n",
       "      <td>539.910725</td>\n",
       "    </tr>\n",
       "    <tr>\n",
       "      <th>7</th>\n",
       "      <td>0</td>\n",
       "      <td>541.143810</td>\n",
       "      <td>541.143810</td>\n",
       "      <td>542.410725</td>\n",
       "      <td>537.410725</td>\n",
       "    </tr>\n",
       "    <tr>\n",
       "      <th>8</th>\n",
       "      <td>1</td>\n",
       "      <td>656.799864</td>\n",
       "      <td>661.799864</td>\n",
       "      <td>539.910725</td>\n",
       "      <td>539.910725</td>\n",
       "    </tr>\n",
       "    <tr>\n",
       "      <th>9</th>\n",
       "      <td>1</td>\n",
       "      <td>656.799864</td>\n",
       "      <td>661.799864</td>\n",
       "      <td>569.910725</td>\n",
       "      <td>569.910725</td>\n",
       "    </tr>\n",
       "    <tr>\n",
       "      <th>10</th>\n",
       "      <td>2</td>\n",
       "      <td>475.100512</td>\n",
       "      <td>475.100512</td>\n",
       "      <td>462.608155</td>\n",
       "      <td>457.608155</td>\n",
       "    </tr>\n",
       "    <tr>\n",
       "      <th>11</th>\n",
       "      <td>2</td>\n",
       "      <td>545.100512</td>\n",
       "      <td>545.100512</td>\n",
       "      <td>462.608155</td>\n",
       "      <td>457.608155</td>\n",
       "    </tr>\n",
       "  </tbody>\n",
       "</table>\n",
       "</div>"
      ],
      "text/plain": [
       "    device  start_att_line_X  end_att_line_X  start_att_line_Y  end_att_line_Y\n",
       "0        0        468.643810      473.643810        569.910725      569.910725\n",
       "1        0        471.143810      471.143810        572.410725      567.410725\n",
       "2        0        538.643810      543.643810        569.910725      569.910725\n",
       "3        0        541.143810      541.143810        572.410725      567.410725\n",
       "4        0        468.643810      473.643810        539.910725      539.910725\n",
       "5        0        471.143810      471.143810        542.410725      537.410725\n",
       "6        0        538.643810      543.643810        539.910725      539.910725\n",
       "7        0        541.143810      541.143810        542.410725      537.410725\n",
       "8        1        656.799864      661.799864        539.910725      539.910725\n",
       "9        1        656.799864      661.799864        569.910725      569.910725\n",
       "10       2        475.100512      475.100512        462.608155      457.608155\n",
       "11       2        545.100512      545.100512        462.608155      457.608155"
      ]
     },
     "execution_count": 31,
     "metadata": {},
     "output_type": "execute_result"
    }
   ],
   "source": [
    "df"
   ]
  },
  {
   "cell_type": "code",
   "execution_count": 32,
   "metadata": {},
   "outputs": [],
   "source": [
    "# Length of attraction line must be 5mm\n",
    "# Is the line in this row horisontal?\n",
    "df['horizontal']= (df.iloc[:,1] == df.iloc[:,2])\n",
    "# Find center of this line at axis X. If line is horizontal...\n",
    "df['point_X'] =np.where(df['horizontal'], \\\n",
    "                        # any coordinate is suitable\n",
    "                        df.iloc[:, 1], \\\n",
    "                        # otherwise, take the middle of the line by X\n",
    "                        (np.minimum(df.iloc[:, 1], df.iloc[:, 2]) +2.5))\n",
    "\n",
    "#same for Y\n",
    "df['point_Y'] =np.where(~ df['horizontal'], \\\n",
    "                        df.iloc[:, 3], \\\n",
    "                        (np.minimum(df.iloc[:, 3], df.iloc[:, 4]) +2.5))    \n",
    "#df"
   ]
  },
  {
   "cell_type": "code",
   "execution_count": 33,
   "metadata": {},
   "outputs": [
    {
     "data": {
      "text/html": [
       "<div>\n",
       "<style scoped>\n",
       "    .dataframe tbody tr th:only-of-type {\n",
       "        vertical-align: middle;\n",
       "    }\n",
       "\n",
       "    .dataframe tbody tr th {\n",
       "        vertical-align: top;\n",
       "    }\n",
       "\n",
       "    .dataframe thead th {\n",
       "        text-align: right;\n",
       "    }\n",
       "</style>\n",
       "<table border=\"1\" class=\"dataframe\">\n",
       "  <thead>\n",
       "    <tr style=\"text-align: right;\">\n",
       "      <th></th>\n",
       "      <th>device</th>\n",
       "      <th>point_X</th>\n",
       "      <th>point_Y</th>\n",
       "    </tr>\n",
       "  </thead>\n",
       "  <tbody>\n",
       "    <tr>\n",
       "      <th>0</th>\n",
       "      <td>0</td>\n",
       "      <td>471.143810</td>\n",
       "      <td>569.910725</td>\n",
       "    </tr>\n",
       "    <tr>\n",
       "      <th>2</th>\n",
       "      <td>0</td>\n",
       "      <td>541.143810</td>\n",
       "      <td>569.910725</td>\n",
       "    </tr>\n",
       "    <tr>\n",
       "      <th>4</th>\n",
       "      <td>0</td>\n",
       "      <td>471.143810</td>\n",
       "      <td>539.910725</td>\n",
       "    </tr>\n",
       "    <tr>\n",
       "      <th>6</th>\n",
       "      <td>0</td>\n",
       "      <td>541.143810</td>\n",
       "      <td>539.910725</td>\n",
       "    </tr>\n",
       "    <tr>\n",
       "      <th>8</th>\n",
       "      <td>1</td>\n",
       "      <td>659.299864</td>\n",
       "      <td>539.910725</td>\n",
       "    </tr>\n",
       "    <tr>\n",
       "      <th>9</th>\n",
       "      <td>1</td>\n",
       "      <td>659.299864</td>\n",
       "      <td>569.910725</td>\n",
       "    </tr>\n",
       "    <tr>\n",
       "      <th>10</th>\n",
       "      <td>2</td>\n",
       "      <td>475.100512</td>\n",
       "      <td>460.108155</td>\n",
       "    </tr>\n",
       "    <tr>\n",
       "      <th>11</th>\n",
       "      <td>2</td>\n",
       "      <td>545.100512</td>\n",
       "      <td>460.108155</td>\n",
       "    </tr>\n",
       "  </tbody>\n",
       "</table>\n",
       "</div>"
      ],
      "text/plain": [
       "    device     point_X     point_Y\n",
       "0        0  471.143810  569.910725\n",
       "2        0  541.143810  569.910725\n",
       "4        0  471.143810  539.910725\n",
       "6        0  541.143810  539.910725\n",
       "8        1  659.299864  539.910725\n",
       "9        1  659.299864  569.910725\n",
       "10       2  475.100512  460.108155\n",
       "11       2  545.100512  460.108155"
      ]
     },
     "execution_count": 33,
     "metadata": {},
     "output_type": "execute_result"
    }
   ],
   "source": [
    "df2 = df.drop_duplicates(['point_X', 'point_Y'])\n",
    "df2 = df2.drop(columns = ['start_att_line_X', 'end_att_line_X', 'start_att_line_Y', 'end_att_line_Y', 'horizontal'])\n",
    "df2"
   ]
  },
  {
   "cell_type": "code",
   "execution_count": null,
   "metadata": {},
   "outputs": [],
   "source": [
    "#df\n",
    "    #print(f'got an item: {item}')\n",
    "    #print(f'Object name: {item.ObjectName}')\n",
    "    #print(item._methods_)\n",
    "    \n",
    "#     if item.ObjectName =='AcDbRotatedDimension':\n",
    "#         #print('found aligned dimention.')\n",
    "#         #print(f'Object layer name: {item.Layer}\\n')       \n",
    "#         dim_rotated = item\n",
    "#     elif item.ObjectName == 'AcDbAlignedDimension':\n",
    "#         #print('found rotated dimention\\n')\n",
    "#         dim_aligned = item\n",
    "        \n",
    "    #explode blocks\n",
    "#    elif item.ObjectName == 'AcDbBlockReference':       \n",
    "#         try:\n",
    "#             print(f'Found a block.\\n')\n",
    "#             block = item\n",
    "#             block.Explode()\n",
    "#         except:\n",
    "#             pass    # here we have some VARIANT bug. So just proceed.\n",
    "#         i+=1"
   ]
  },
  {
   "cell_type": "code",
   "execution_count": null,
   "metadata": {},
   "outputs": [],
   "source": []
  },
  {
   "cell_type": "code",
   "execution_count": null,
   "metadata": {},
   "outputs": [],
   "source": []
  },
  {
   "cell_type": "code",
   "execution_count": null,
   "metadata": {},
   "outputs": [],
   "source": []
  },
  {
   "cell_type": "code",
   "execution_count": null,
   "metadata": {},
   "outputs": [],
   "source": []
  },
  {
   "cell_type": "code",
   "execution_count": null,
   "metadata": {},
   "outputs": [],
   "source": []
  },
  {
   "cell_type": "code",
   "execution_count": 7,
   "metadata": {},
   "outputs": [],
   "source": [
    "def FindAttachmentPoint(data):\n",
    "    \"\"\"This function converts given data to the coordinates of attachment points. \n",
    "    \n",
    "    data: dataframe with coordinates of lines in layer 'attachment point'\n",
    "    \n",
    "    return\n",
    "    \"\"\"\n",
    "    #FindAttachmentPoint(df[df['device']==device])\n",
    "    print(f'data:\\n{data}')\n",
    "    print(data.iloc[[0]])\n",
    "\n",
    "\n",
    "def MakeDimVertical(msp, point1, point2, loc):\n",
    "    \"\"\"This function make vertical dimension.\n",
    "    \n",
    "    msp:  model space\n",
    "    point1, point2: points of dimention\n",
    "    loc - location of dimension\n",
    "    \"\"\"\n",
    "    pass\n",
    "    \n",
    "\n",
    "def MakeDimHorizontal(msp, point1, point2, loc):\n",
    "    \"\"\"This function make horizontal dimension.\n",
    "    \n",
    "    msp:  model space\n",
    "    point1, point2: points of dimention\n",
    "    loc - location of dimension\n",
    "    \"\"\"\n",
    "    pass\n",
    "\n",
    "def ProcessAttachmentPoints(msp, objects):\n",
    "    \"\"\"This function make coorginates of attachment points.\n",
    "    \n",
    "    msp:  model space\n",
    "    objects:  lines from specified layer\n",
    "    \"\"\"\n",
    "    pass\n"
   ]
  },
  {
   "cell_type": "code",
   "execution_count": 8,
   "metadata": {},
   "outputs": [
    {
     "ename": "NameError",
     "evalue": "name 'mSp' is not defined",
     "output_type": "error",
     "traceback": [
      "\u001b[1;31m---------------------------------------------------------------------------\u001b[0m",
      "\u001b[1;31mNameError\u001b[0m                                 Traceback (most recent call last)",
      "\u001b[1;32m<ipython-input-8-095027c3db6f>\u001b[0m in \u001b[0;36m<module>\u001b[1;34m\u001b[0m\n\u001b[0;32m      1\u001b[0m \u001b[0mpt\u001b[0m \u001b[1;33m=\u001b[0m \u001b[0marray\u001b[0m\u001b[1;33m.\u001b[0m\u001b[0marray\u001b[0m\u001b[1;33m(\u001b[0m\u001b[1;34m'd'\u001b[0m\u001b[1;33m,\u001b[0m \u001b[1;33m[\u001b[0m\u001b[1;36m0\u001b[0m\u001b[1;33m,\u001b[0m\u001b[1;36m0\u001b[0m\u001b[1;33m,\u001b[0m\u001b[1;36m0\u001b[0m\u001b[1;33m]\u001b[0m\u001b[1;33m)\u001b[0m \u001b[1;31m# to convert in variant\u001b[0m\u001b[1;33m\u001b[0m\u001b[1;33m\u001b[0m\u001b[0m\n\u001b[1;32m----> 2\u001b[1;33m \u001b[0mpoint\u001b[0m \u001b[1;33m=\u001b[0m \u001b[0mmSp\u001b[0m\u001b[1;33m.\u001b[0m\u001b[0mAddPoint\u001b[0m\u001b[1;33m(\u001b[0m\u001b[0mpt\u001b[0m\u001b[1;33m)\u001b[0m\u001b[1;33m\u001b[0m\u001b[1;33m\u001b[0m\u001b[0m\n\u001b[0m\u001b[0;32m      3\u001b[0m \u001b[1;31m# Add a LINE\u001b[0m\u001b[1;33m\u001b[0m\u001b[1;33m\u001b[0m\u001b[1;33m\u001b[0m\u001b[0m\n\u001b[0;32m      4\u001b[0m \u001b[0mpt1\u001b[0m \u001b[1;33m=\u001b[0m \u001b[0marray\u001b[0m\u001b[1;33m.\u001b[0m\u001b[0marray\u001b[0m\u001b[1;33m(\u001b[0m\u001b[1;34m'd'\u001b[0m\u001b[1;33m,\u001b[0m \u001b[1;33m[\u001b[0m\u001b[1;36m0.0\u001b[0m\u001b[1;33m,\u001b[0m\u001b[1;36m0.0\u001b[0m\u001b[1;33m,\u001b[0m\u001b[1;36m0\u001b[0m\u001b[1;33m]\u001b[0m\u001b[1;33m)\u001b[0m \u001b[1;31m# start point\u001b[0m\u001b[1;33m\u001b[0m\u001b[1;33m\u001b[0m\u001b[0m\n\u001b[0;32m      5\u001b[0m \u001b[0mpt2\u001b[0m \u001b[1;33m=\u001b[0m \u001b[0marray\u001b[0m\u001b[1;33m.\u001b[0m\u001b[0marray\u001b[0m\u001b[1;33m(\u001b[0m\u001b[1;34m'd'\u001b[0m\u001b[1;33m,\u001b[0m \u001b[1;33m[\u001b[0m\u001b[1;36m20.0\u001b[0m\u001b[1;33m,\u001b[0m\u001b[1;36m20.0\u001b[0m\u001b[1;33m,\u001b[0m\u001b[1;36m0\u001b[0m\u001b[1;33m]\u001b[0m\u001b[1;33m)\u001b[0m \u001b[1;31m# end point\u001b[0m\u001b[1;33m\u001b[0m\u001b[1;33m\u001b[0m\u001b[0m\n",
      "\u001b[1;31mNameError\u001b[0m: name 'mSp' is not defined"
     ]
    }
   ],
   "source": [
    "pt = array.array('d', [0,0,0]) # to convert in variant\n",
    "point = mSp.AddPoint(pt)\n",
    "# Add a LINE\n",
    "pt1 = array.array('d', [0.0,0.0,0]) # start point\n",
    "pt2 = array.array('d', [20.0,20.0,0]) # end point\n",
    "line = mSp.AddLine(pt1, pt2)"
   ]
  },
  {
   "cell_type": "code",
   "execution_count": null,
   "metadata": {},
   "outputs": [],
   "source": [
    "s1 =  array.array('d', [500.0, 800.0, 0.0])\n",
    "s2 =  array.array('d', [500.0, 1200.0, 0.0])\n",
    "loc = array.array('d', [500.0, 1000.0, 0.0])\n",
    "new_dim = mSp.AddDimAligned(s1, s2, loc)\n",
    "new_dim.update()"
   ]
  },
  {
   "cell_type": "code",
   "execution_count": null,
   "metadata": {},
   "outputs": [],
   "source": [
    "dim.\n"
   ]
  },
  {
   "cell_type": "code",
   "execution_count": null,
   "metadata": {},
   "outputs": [],
   "source": [
    "df = pd.read_excel('E://Python/RubinProject/Journal.xlsx')"
   ]
  },
  {
   "cell_type": "code",
   "execution_count": null,
   "metadata": {},
   "outputs": [],
   "source": [
    "make_dim_vertical()"
   ]
  },
  {
   "cell_type": "code",
   "execution_count": null,
   "metadata": {},
   "outputs": [],
   "source": [
    "df = df.rename({'Имя прибора': 'prib_name',\n",
    "               'Индекс по схеме': 'shema_index'},\n",
    "               axis=1)"
   ]
  },
  {
   "cell_type": "code",
   "execution_count": null,
   "metadata": {},
   "outputs": [],
   "source": [
    "# import win32com.client\n",
    "# acad = win32com.client.Dispatch(\"AutoCAD.Application\")\n",
    "\n",
    "# doc = acad.ActiveDocument   # Document object\n",
    "\n",
    "\n",
    "# # iterate trough all objects (entities) in the currently opened drawing\n",
    "# # and if its a BlockReference, display its attributes and some other things.\n",
    "# for entity in acad.ActiveDocument.ModelSpace:\n",
    "#     name = entity.EntityName\n",
    "#     if name == 'AcDbBlockReference':\n",
    "#         HasAttributes = entity.HasAttributes\n",
    "#         if HasAttributes:\n",
    "#             print(entity.Name)\n",
    "#             print(entity.Layer)\n",
    "#             print(entity.ObjectID)\n",
    "#             for attrib in entity.GetAttributes():\n",
    "#                 print(\"  {}: {}\".format(attrib.TagString, attrib.TextString))\n",
    "                \n",
    "#                 # update text\n",
    "#                 attrib.TextString = 'modified with python'\n",
    "#                 attrib.Update()"
   ]
  },
  {
   "cell_type": "code",
   "execution_count": null,
   "metadata": {},
   "outputs": [],
   "source": []
  },
  {
   "cell_type": "markdown",
   "metadata": {},
   "source": [
    "Фичи размеров в качестве таргетов:\n",
    "- TextPosition (rotated размеры тоже их имеют)"
   ]
  },
  {
   "cell_type": "markdown",
   "metadata": {},
   "source": [
    "Запасной вариант- взрывать кхерам все размеры, вытаскивать параметры линий, и таким образом получать координаты точек привязки размера, а заодно и координаты текста. Наверное, придётся так и сделать, чтобы обеспечить непересекаемоть размеров и других линий чертежа, типа линий габаритки"
   ]
  },
  {
   "cell_type": "code",
   "execution_count": null,
   "metadata": {},
   "outputs": [],
   "source": []
  },
  {
   "cell_type": "code",
   "execution_count": null,
   "metadata": {},
   "outputs": [],
   "source": []
  },
  {
   "cell_type": "markdown",
   "metadata": {},
   "source": [
    "todo:\n",
    "\n",
    "точка крепления может быть не посередине линии соответствующего слоя, а где-то на пересечении с линией прибора. Сделать проверку на небольшое отклонение и выдать сообщение чтобы поправили чертёж"
   ]
  }
 ],
 "metadata": {
  "kernelspec": {
   "display_name": "Python 3",
   "language": "python",
   "name": "python3"
  },
  "language_info": {
   "codemirror_mode": {
    "name": "ipython",
    "version": 3
   },
   "file_extension": ".py",
   "mimetype": "text/x-python",
   "name": "python",
   "nbconvert_exporter": "python",
   "pygments_lexer": "ipython3",
   "version": "3.7.3"
  }
 },
 "nbformat": 4,
 "nbformat_minor": 4
}
