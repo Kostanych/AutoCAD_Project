{
 "cells": [
  {
   "cell_type": "markdown",
   "metadata": {},
   "source": [
    "# AutoCAD MegaIntellegence Project\n",
    "  Предназначено для ускорения работы с конструкторскими чертежами. Машинное обучение позволит убрать рутинные операции. Программа должна проставлять размеры на точки крепления к приборам, с учётом всех требований. Это первая задача. С имеющейся базой можно расширить применение на другие задачи работы с dwg чертежами.\n",
    "  \n",
    "  Проект читает $хорошие$ чертежи, обучается на существующих позициях размеров. X - линии в слое с точками крепления, пересечение с линиями прибора. y - базовые точки размеров, положение текста\n",
    "  \n",
    "  Первая версия: будет один вид, нужно проставить все размеры на 1 виде.\n",
    "  \n",
    "$$успех = усердие + время$$"
   ]
  },
  {
   "cell_type": "code",
   "execution_count": 1,
   "metadata": {},
   "outputs": [],
   "source": [
    "\n",
    "import win32com.client\n",
    "import comtypes.client\n",
    "import numpy as np\n",
    "import pandas as pd\n",
    "import math\n",
    "import array\n",
    "\n",
    "app = comtypes.client.GetActiveObject('AutoCAD.Application')\n",
    "#app = win32com.client.Dispatch(\"AutoCAD.Application\")\n",
    "activedoc = app.ActiveDocument\n",
    "msp =activedoc.ModelSpace"
   ]
  },
  {
   "cell_type": "code",
   "execution_count": 2,
   "metadata": {},
   "outputs": [],
   "source": [
    "# import win32com.client\n",
    "# acad = win32com.client.Dispatch(\"AutoCAD.Application\")\n",
    "\n",
    "# doc = acad.ActiveDocument   # Document object\n",
    "\n",
    "\n",
    "# # iterate trough all objects (entities) in the currently opened drawing\n",
    "# # and if its a BlockReference, display its attributes and some other things.\n",
    "# for entity in acad.ActiveDocument.ModelSpace:\n",
    "#     name = entity.EntityName\n",
    "#     if name == 'AcDbBlockReference':\n",
    "#         HasAttributes = entity.HasAttributes\n",
    "#         if HasAttributes:\n",
    "#             print(entity.Name)\n",
    "#             print(entity.Layer)\n",
    "#             print(entity.ObjectID)\n",
    "#             for attrib in entity.GetAttributes():\n",
    "#                 print(\"  {}: {}\".format(attrib.TagString, attrib.TextString))\n",
    "                \n",
    "#                 # update text\n",
    "#                 attrib.TextString = 'modified with python'\n",
    "#                 attrib.Update()"
   ]
  },
  {
   "cell_type": "code",
   "execution_count": null,
   "metadata": {},
   "outputs": [],
   "source": [
    "for blk in activedoc.Blocks:\n",
    "    print(blk)\n",
    "    for ent in blk:\n",
    "        print(ent)"
   ]
  },
  {
   "cell_type": "code",
   "execution_count": 147,
   "metadata": {},
   "outputs": [],
   "source": [
    "df = pd.DataFrame(columns ={'device','start_att_line_X', 'end_att_line_X','start_att_line_Y', 'end_att_line_Y'})\n",
    "df = df[['device','start_att_line_X', 'end_att_line_X','start_att_line_Y', 'end_att_line_Y']]"
   ]
  },
  {
   "cell_type": "code",
   "execution_count": 148,
   "metadata": {},
   "outputs": [
    {
     "name": "stdout",
     "output_type": "stream",
     "text": [
      "Block name: <POINTER(IAcadBlock) ptr=0x7534a18 at b775ec8>\n",
      "<POINTER(IAcadLine) ptr=0x6cb1fd8 at b999148>\n",
      "<POINTER(IAcadLine) ptr=0x6cb2c18 at b775dc8>\n",
      "<POINTER(IAcadLine) ptr=0x6cb23c8 at b775bc8>\n",
      "<POINTER(IAcadLine) ptr=0x6cb2908 at b7755c8>\n",
      "<POINTER(IAcadLine) ptr=0x6cb2dd8 at b775b48>\n",
      "<POINTER(IAcadLine) ptr=0x6cb2278 at b775348>\n",
      "<POINTER(IAcadLine) ptr=0x6cb2eb8 at b775bc8>\n",
      "<POINTER(IAcadLine) ptr=0x6cb2978 at b7755c8>\n",
      "Block name: <POINTER(IAcadBlock) ptr=0x7535d28 at b775cc8>\n",
      "<POINTER(IAcadLine) ptr=0x6cb2a58 at b775bc8>\n",
      "<POINTER(IAcadLine) ptr=0x6cb20b8 at b7755c8>\n",
      "Block name: <POINTER(IAcadBlock) ptr=0x7646758 at b775ec8>\n",
      "<POINTER(IAcadLine) ptr=0x6cb2208 at b775b48>\n",
      "<POINTER(IAcadLine) ptr=0x6cb2518 at b7754c8>\n"
     ]
    },
    {
     "data": {
      "text/html": [
       "<div>\n",
       "<style scoped>\n",
       "    .dataframe tbody tr th:only-of-type {\n",
       "        vertical-align: middle;\n",
       "    }\n",
       "\n",
       "    .dataframe tbody tr th {\n",
       "        vertical-align: top;\n",
       "    }\n",
       "\n",
       "    .dataframe thead th {\n",
       "        text-align: right;\n",
       "    }\n",
       "</style>\n",
       "<table border=\"1\" class=\"dataframe\">\n",
       "  <thead>\n",
       "    <tr style=\"text-align: right;\">\n",
       "      <th></th>\n",
       "      <th>device</th>\n",
       "      <th>start_att_line_X</th>\n",
       "      <th>end_att_line_X</th>\n",
       "      <th>start_att_line_Y</th>\n",
       "      <th>end_att_line_Y</th>\n",
       "    </tr>\n",
       "  </thead>\n",
       "  <tbody>\n",
       "    <tr>\n",
       "      <th>0</th>\n",
       "      <td>0.0</td>\n",
       "      <td>468.643810</td>\n",
       "      <td>473.643810</td>\n",
       "      <td>569.910725</td>\n",
       "      <td>569.910725</td>\n",
       "    </tr>\n",
       "    <tr>\n",
       "      <th>1</th>\n",
       "      <td>0.0</td>\n",
       "      <td>471.143810</td>\n",
       "      <td>471.143810</td>\n",
       "      <td>572.410725</td>\n",
       "      <td>567.410725</td>\n",
       "    </tr>\n",
       "    <tr>\n",
       "      <th>2</th>\n",
       "      <td>0.0</td>\n",
       "      <td>538.643810</td>\n",
       "      <td>543.643810</td>\n",
       "      <td>569.910725</td>\n",
       "      <td>569.910725</td>\n",
       "    </tr>\n",
       "    <tr>\n",
       "      <th>3</th>\n",
       "      <td>0.0</td>\n",
       "      <td>541.143810</td>\n",
       "      <td>541.143810</td>\n",
       "      <td>572.410725</td>\n",
       "      <td>567.410725</td>\n",
       "    </tr>\n",
       "    <tr>\n",
       "      <th>4</th>\n",
       "      <td>0.0</td>\n",
       "      <td>468.643810</td>\n",
       "      <td>473.643810</td>\n",
       "      <td>539.910725</td>\n",
       "      <td>539.910725</td>\n",
       "    </tr>\n",
       "    <tr>\n",
       "      <th>5</th>\n",
       "      <td>0.0</td>\n",
       "      <td>471.143810</td>\n",
       "      <td>471.143810</td>\n",
       "      <td>542.410725</td>\n",
       "      <td>537.410725</td>\n",
       "    </tr>\n",
       "    <tr>\n",
       "      <th>6</th>\n",
       "      <td>0.0</td>\n",
       "      <td>538.643810</td>\n",
       "      <td>543.643810</td>\n",
       "      <td>539.910725</td>\n",
       "      <td>539.910725</td>\n",
       "    </tr>\n",
       "    <tr>\n",
       "      <th>7</th>\n",
       "      <td>0.0</td>\n",
       "      <td>541.143810</td>\n",
       "      <td>541.143810</td>\n",
       "      <td>542.410725</td>\n",
       "      <td>537.410725</td>\n",
       "    </tr>\n",
       "    <tr>\n",
       "      <th>8</th>\n",
       "      <td>1.0</td>\n",
       "      <td>656.799864</td>\n",
       "      <td>661.799864</td>\n",
       "      <td>539.910725</td>\n",
       "      <td>539.910725</td>\n",
       "    </tr>\n",
       "    <tr>\n",
       "      <th>9</th>\n",
       "      <td>1.0</td>\n",
       "      <td>656.799864</td>\n",
       "      <td>661.799864</td>\n",
       "      <td>569.910725</td>\n",
       "      <td>569.910725</td>\n",
       "    </tr>\n",
       "    <tr>\n",
       "      <th>10</th>\n",
       "      <td>2.0</td>\n",
       "      <td>475.100512</td>\n",
       "      <td>475.100512</td>\n",
       "      <td>462.608155</td>\n",
       "      <td>457.608155</td>\n",
       "    </tr>\n",
       "    <tr>\n",
       "      <th>11</th>\n",
       "      <td>2.0</td>\n",
       "      <td>545.100512</td>\n",
       "      <td>545.100512</td>\n",
       "      <td>462.608155</td>\n",
       "      <td>457.608155</td>\n",
       "    </tr>\n",
       "  </tbody>\n",
       "</table>\n",
       "</div>"
      ],
      "text/plain": [
       "    device  start_att_line_X  end_att_line_X  start_att_line_Y  end_att_line_Y\n",
       "0      0.0        468.643810      473.643810        569.910725      569.910725\n",
       "1      0.0        471.143810      471.143810        572.410725      567.410725\n",
       "2      0.0        538.643810      543.643810        569.910725      569.910725\n",
       "3      0.0        541.143810      541.143810        572.410725      567.410725\n",
       "4      0.0        468.643810      473.643810        539.910725      539.910725\n",
       "5      0.0        471.143810      471.143810        542.410725      537.410725\n",
       "6      0.0        538.643810      543.643810        539.910725      539.910725\n",
       "7      0.0        541.143810      541.143810        542.410725      537.410725\n",
       "8      1.0        656.799864      661.799864        539.910725      539.910725\n",
       "9      1.0        656.799864      661.799864        569.910725      569.910725\n",
       "10     2.0        475.100512      475.100512        462.608155      457.608155\n",
       "11     2.0        545.100512      545.100512        462.608155      457.608155"
      ]
     },
     "execution_count": 148,
     "metadata": {},
     "output_type": "execute_result"
    }
   ],
   "source": [
    "# set variables\n",
    "dim_aligned, dim_rotated, blockref, i,bl = 0,0,0,0,0\n",
    "# view each object\n",
    "for item in msp:\n",
    "    #need to check if that actually device block\n",
    "    if item.ObjectName == 'AcDbBlockReference':\n",
    "        block = activedoc.Blocks.Item(item.Name)\n",
    "        bl=item\n",
    "        print (f'Block name: {block}')\n",
    "        for element in block:\n",
    "            if element.Layer ==\"attachment point\":\n",
    "                # fill the dataframe with the coordinates of the attachment points\n",
    "                print(element)\n",
    "                df = df.append({'device': i, \\\n",
    "                                'start_att_line_X': element.StartPoint[0] + item.InsertionPoint[0], \\\n",
    "                                'start_att_line_Y': element.StartPoint[1] + item.InsertionPoint[1], \\\n",
    "                                'end_att_line_X': element.EndPoint[0] + item.InsertionPoint[0],\\\n",
    "                                'end_att_line_Y': element.EndPoint[1] + item.InsertionPoint[1]},  ignore_index=True)\n",
    "        i+=1\n",
    "                \n",
    "df\n",
    "    #print(f'got an item: {item}')\n",
    "    #print(f'Object name: {item.ObjectName}')\n",
    "    #print(item._methods_)\n",
    "    \n",
    "#     if item.ObjectName =='AcDbRotatedDimension':\n",
    "#         #print('found aligned dimention.')\n",
    "#         #print(f'Object layer name: {item.Layer}\\n')       \n",
    "#         dim_rotated = item\n",
    "#     elif item.ObjectName == 'AcDbAlignedDimension':\n",
    "#         #print('found rotated dimention\\n')\n",
    "#         dim_aligned = item\n",
    "        \n",
    "    #explode blocks\n",
    "#    elif item.ObjectName == 'AcDbBlockReference':       \n",
    "#         try:\n",
    "#             print(f'Found a block.\\n')\n",
    "#             block = item\n",
    "#             block.Explode()\n",
    "#         except:\n",
    "#             pass    # here we have some VARIANT bug. So just proceed.\n",
    "#         i+=1"
   ]
  },
  {
   "cell_type": "code",
   "execution_count": null,
   "metadata": {},
   "outputs": [],
   "source": [
    "# dim_rotated.GetXData('AutoCAD.Application')\n",
    "# dim_rotated.TextPosition = array.array('d', [450.0, 550.0, 0.0])\n",
    "# dim_rotated.update()\n",
    "# dim_rotated.HorizontalTextPosition\n",
    "df"
   ]
  },
  {
   "cell_type": "code",
   "execution_count": 45,
   "metadata": {},
   "outputs": [],
   "source": [
    "pt = array.array('d', [0,0,0]) # to convert in variant\n",
    "point = mSp.AddPoint(pt)\n",
    "# Add a LINE\n",
    "pt1 = array.array('d', [0.0,0.0,0]) # start point\n",
    "pt2 = array.array('d', [20.0,20.0,0]) # end point\n",
    "line = mSp.AddLine(pt1, pt2)"
   ]
  },
  {
   "cell_type": "code",
   "execution_count": 46,
   "metadata": {},
   "outputs": [
    {
     "data": {
      "text/plain": [
       "0"
      ]
     },
     "execution_count": 46,
     "metadata": {},
     "output_type": "execute_result"
    }
   ],
   "source": [
    "s1 =  array.array('d', [500.0, 800.0, 0.0])\n",
    "s2 =  array.array('d', [500.0, 1200.0, 0.0])\n",
    "loc = array.array('d', [500.0, 1000.0, 0.0])\n",
    "new_dim = mSp.AddDimAligned(s1, s2, loc)\n",
    "new_dim.update()"
   ]
  },
  {
   "cell_type": "code",
   "execution_count": 47,
   "metadata": {},
   "outputs": [],
   "source": [
    "acad = win32com.client.Dispatch(\"AutoCAD.Application\")\n",
    "\n",
    "doc = acad.ActiveDocument   # Document object\n",
    "\n",
    "\n",
    "# iterate trough all objects (entities) in the currently opened drawing\n",
    "# and if its a BlockReference, display its attributes and some other things.\n",
    "for entity in acad.ActiveDocument.ModelSpace:\n",
    "    name = entity.EntityName\n",
    "    if name == 'AcDbBlockReference':\n",
    "        HasAttributes = entity.HasAttributes\n",
    "        if HasAttributes:\n",
    "            print(entity.Name)\n",
    "            print(entity.Layer)\n",
    "            print(entity.ObjectID)\n",
    "            for attrib in entity.GetAttributes():\n",
    "                print(\"  {}: {}\".format(attrib.TagString, attrib.TextString))\n",
    "                \n",
    "                # update text\n",
    "                attrib.TextString = 'modified with python'\n",
    "                attribib.Update()"
   ]
  },
  {
   "cell_type": "code",
   "execution_count": 48,
   "metadata": {},
   "outputs": [
    {
     "ename": "SyntaxError",
     "evalue": "invalid syntax (<ipython-input-48-0914cce5ec06>, line 1)",
     "output_type": "error",
     "traceback": [
      "\u001b[1;36m  File \u001b[1;32m\"<ipython-input-48-0914cce5ec06>\"\u001b[1;36m, line \u001b[1;32m1\u001b[0m\n\u001b[1;33m    dim.\u001b[0m\n\u001b[1;37m        ^\u001b[0m\n\u001b[1;31mSyntaxError\u001b[0m\u001b[1;31m:\u001b[0m invalid syntax\n"
     ]
    }
   ],
   "source": [
    "dim.\n"
   ]
  },
  {
   "cell_type": "code",
   "execution_count": null,
   "metadata": {},
   "outputs": [],
   "source": [
    "df = pd.read_excel('E://Python/RubinProject/Journal.xlsx')"
   ]
  },
  {
   "cell_type": "code",
   "execution_count": null,
   "metadata": {},
   "outputs": [],
   "source": [
    "make_dim_vertical()"
   ]
  },
  {
   "cell_type": "code",
   "execution_count": null,
   "metadata": {},
   "outputs": [],
   "source": [
    "df = df.rename({'Имя прибора': 'prib_name',\n",
    "               'Индекс по схеме': 'shema_index'},\n",
    "               axis=1)"
   ]
  },
  {
   "cell_type": "code",
   "execution_count": null,
   "metadata": {},
   "outputs": [],
   "source": []
  },
  {
   "cell_type": "code",
   "execution_count": null,
   "metadata": {},
   "outputs": [],
   "source": []
  },
  {
   "cell_type": "code",
   "execution_count": 140,
   "metadata": {},
   "outputs": [
    {
     "ename": "SyntaxError",
     "evalue": "invalid syntax (<ipython-input-140-943b7e770fdd>, line 28)",
     "output_type": "error",
     "traceback": [
      "\u001b[1;36m  File \u001b[1;32m\"<ipython-input-140-943b7e770fdd>\"\u001b[1;36m, line \u001b[1;32m28\u001b[0m\n\u001b[1;33m    def проверка на то, что 2 линии перпендикулярны и составляют точку крепления на фронтальном виде\u001b[0m\n\u001b[1;37m                  ^\u001b[0m\n\u001b[1;31mSyntaxError\u001b[0m\u001b[1;31m:\u001b[0m invalid syntax\n"
     ]
    }
   ],
   "source": [
    "def MakeDimVertical(msp, point1, point2, loc):\n",
    "    \"\"\"This function make vertical dimension.\n",
    "    \n",
    "    msp:  model space\n",
    "    point1, point2: points of dimention\n",
    "    loc - location of dimension\n",
    "    \"\"\"\n",
    "    pass\n",
    "    \n",
    "\n",
    "def MakeDimHorizontal(msp, point1, point2, loc):\n",
    "    \"\"\"This function make horizontal dimension.\n",
    "    \n",
    "    msp:  model space\n",
    "    point1, point2: points of dimention\n",
    "    loc - location of dimension\n",
    "    \"\"\"\n",
    "    pass\n",
    "\n",
    "def ProcessAttachmentPoints(msp, objects):\n",
    "    \"\"\"This function make coorginates of attachment points.\n",
    "    \n",
    "    msp:  model space\n",
    "    objects:  lines from specified layer\n",
    "    \"\"\"\n",
    "    pass\n",
    "\n",
    "def проверка на то, что 2 линии перпендикулярны и составляют точку крепления на фронтальном виде"
   ]
  },
  {
   "cell_type": "markdown",
   "metadata": {},
   "source": [
    "Фичи размеров в качестве таргетов:\n",
    "- TextPosition (rotated размеры тоже их имеют)"
   ]
  },
  {
   "cell_type": "markdown",
   "metadata": {},
   "source": [
    "Запасной вариант- взрывать кхерам все размеры, вытаскивать параметры линий, и таким образом получать координаты точек привязки размера, а заодно и координаты текста. Наверное, придётся так и сделать, чтобы обеспечить непересекаемоть размеров и других линий чертежа, типа линий габаритки"
   ]
  },
  {
   "cell_type": "code",
   "execution_count": null,
   "metadata": {},
   "outputs": [],
   "source": []
  },
  {
   "cell_type": "code",
   "execution_count": null,
   "metadata": {},
   "outputs": [],
   "source": []
  },
  {
   "cell_type": "markdown",
   "metadata": {},
   "source": [
    "todo:\n",
    "\n",
    "точка крепления может быть не посередине линии соответствующего слоя, а где-то на пересечении с линией прибора"
   ]
  }
 ],
 "metadata": {
  "kernelspec": {
   "display_name": "Python 3",
   "language": "python",
   "name": "python3"
  },
  "language_info": {
   "codemirror_mode": {
    "name": "ipython",
    "version": 3
   },
   "file_extension": ".py",
   "mimetype": "text/x-python",
   "name": "python",
   "nbconvert_exporter": "python",
   "pygments_lexer": "ipython3",
   "version": "3.7.4"
  }
 },
 "nbformat": 4,
 "nbformat_minor": 4
}
