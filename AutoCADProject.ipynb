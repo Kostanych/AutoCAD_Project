{
 "cells": [
  {
   "cell_type": "markdown",
   "metadata": {},
   "source": [
    "# AutoCAD MegaIntellegence Project\n"
   ]
  },
  {
   "cell_type": "code",
   "execution_count": 1,
   "metadata": {},
   "outputs": [],
   "source": [
    "\n",
    "import win32com.client\n",
    "import comtypes.client\n",
    "import numpy as np\n",
    "import pandas as pd\n",
    "import math\n",
    "import array\n",
    "\n",
    "app = comtypes.client.GetActiveObject('AutoCAD.Application')\n",
    "#app = win32com.client.Dispatch(\"AutoCAD.Application\")\n",
    "activedoc = app.ActiveDocument\n",
    "msp =activedoc.ModelSpace"
   ]
  },
  {
   "cell_type": "code",
   "execution_count": 2,
   "metadata": {},
   "outputs": [
    {
     "name": "stdout",
     "output_type": "stream",
     "text": [
      "<POINTER(IAcadModelSpace) ptr=0x286debbf418 at 286e06de948>\n",
      "<POINTER(IAcadPaperSpace) ptr=0x286dcd01b48 at 286e062e948>\n",
      "<POINTER(IAcadBlock) ptr=0x286dcd36eb8 at 286e062eb48>\n",
      "<POINTER(IAcadBlock) ptr=0x286dcd020f8 at 286e062ebc8>\n",
      "<POINTER(IAcadBlock) ptr=0x286debbf098 at 286e062eac8>\n",
      "<POINTER(IAcadBlock) ptr=0x286dcd01d78 at 286e06de948>\n",
      "<POINTER(IAcadBlock) ptr=0x286debbefb8 at 286e062e6c8>\n",
      "<POINTER(IAcadBlock) ptr=0x286dcd01988 at 286e06de948>\n",
      "<POINTER(IAcadBlock) ptr=0x286dcd36b38 at 286e062e948>\n"
     ]
    }
   ],
   "source": [
    "for blk in activedoc.Blocks:\n",
    "    print(blk)\n",
    "#    for ent in blk:\n",
    "#         print(ent)"
   ]
  },
  {
   "cell_type": "code",
   "execution_count": 134,
   "metadata": {},
   "outputs": [
    {
     "name": "stdout",
     "output_type": "stream",
     "text": [
      "Block name: <POINTER(IAcadBlock) ptr=0x286df215a08 at 286e27f06c8>\n",
      "Block name: <POINTER(IAcadBlock) ptr=0x286df2151b8 at 286e1b16ac8>\n",
      "Block name: <POINTER(IAcadBlock) ptr=0x286debbfc68 at 286e27f0848>\n"
     ]
    }
   ],
   "source": [
    "# set variables\n",
    "df = pd.DataFrame(columns ={'device','start_att_line_X', 'end_att_line_X','start_att_line_Y', 'end_att_line_Y'})\n",
    "df = df[['device','start_att_line_X', 'end_att_line_X','start_att_line_Y', 'end_att_line_Y']]\n",
    "dim_aligned, dim_rotated, blockref, i = 0,0,0,0\n",
    "# view each object in ModelSpace\n",
    "for item in msp:\n",
    "    #TODO: need to check if that actually device block\n",
    "    #if it's a device:\n",
    "    if item.ObjectName == 'AcDbBlockReference':\n",
    "        #find BLOCK object by given BlockRef\n",
    "        block = activedoc.Blocks.Item(item.Name)\n",
    "        print (f'Block name: {block}')\n",
    "        for element in block:\n",
    "            if element.Layer ==\"attachment point\":\n",
    "                # fill the dataframe with the coordinates of the attachment points\n",
    "                  df = df.append({'device': i, \\\n",
    "                                'start_att_line_X': element.StartPoint[0] + item.InsertionPoint[0], \\\n",
    "                                'start_att_line_Y': element.StartPoint[1] + item.InsertionPoint[1], \\\n",
    "                                'end_att_line_X': element.EndPoint[0] + item.InsertionPoint[0],\\\n",
    "                                'end_att_line_Y': element.EndPoint[1] + item.InsertionPoint[1]},  ignore_index=True)\n",
    "        i+=1\n",
    "                \n",
    "df['device'] = df['device'].astype(int)\n"
   ]
  },
  {
   "cell_type": "code",
   "execution_count": 123,
   "metadata": {},
   "outputs": [
    {
     "data": {
      "text/html": [
       "<div>\n",
       "<style scoped>\n",
       "    .dataframe tbody tr th:only-of-type {\n",
       "        vertical-align: middle;\n",
       "    }\n",
       "\n",
       "    .dataframe tbody tr th {\n",
       "        vertical-align: top;\n",
       "    }\n",
       "\n",
       "    .dataframe thead th {\n",
       "        text-align: right;\n",
       "    }\n",
       "</style>\n",
       "<table border=\"1\" class=\"dataframe\">\n",
       "  <thead>\n",
       "    <tr style=\"text-align: right;\">\n",
       "      <th></th>\n",
       "      <th>device</th>\n",
       "      <th>end_att_line_X</th>\n",
       "      <th>end_att_line_Y</th>\n",
       "      <th>start_att_line_X</th>\n",
       "      <th>start_att_line_Y</th>\n",
       "    </tr>\n",
       "  </thead>\n",
       "  <tbody>\n",
       "    <tr>\n",
       "      <th>0</th>\n",
       "      <td>0</td>\n",
       "      <td>473.643810</td>\n",
       "      <td>569.910725</td>\n",
       "      <td>468.643810</td>\n",
       "      <td>569.910725</td>\n",
       "    </tr>\n",
       "    <tr>\n",
       "      <th>1</th>\n",
       "      <td>0</td>\n",
       "      <td>471.143810</td>\n",
       "      <td>567.410725</td>\n",
       "      <td>471.143810</td>\n",
       "      <td>572.410725</td>\n",
       "    </tr>\n",
       "    <tr>\n",
       "      <th>2</th>\n",
       "      <td>0</td>\n",
       "      <td>543.643810</td>\n",
       "      <td>569.910725</td>\n",
       "      <td>538.643810</td>\n",
       "      <td>569.910725</td>\n",
       "    </tr>\n",
       "    <tr>\n",
       "      <th>3</th>\n",
       "      <td>0</td>\n",
       "      <td>541.143810</td>\n",
       "      <td>567.410725</td>\n",
       "      <td>541.143810</td>\n",
       "      <td>572.410725</td>\n",
       "    </tr>\n",
       "    <tr>\n",
       "      <th>4</th>\n",
       "      <td>0</td>\n",
       "      <td>473.643810</td>\n",
       "      <td>539.910725</td>\n",
       "      <td>468.643810</td>\n",
       "      <td>539.910725</td>\n",
       "    </tr>\n",
       "    <tr>\n",
       "      <th>5</th>\n",
       "      <td>0</td>\n",
       "      <td>471.143810</td>\n",
       "      <td>537.410725</td>\n",
       "      <td>471.143810</td>\n",
       "      <td>542.410725</td>\n",
       "    </tr>\n",
       "    <tr>\n",
       "      <th>6</th>\n",
       "      <td>0</td>\n",
       "      <td>543.643810</td>\n",
       "      <td>539.910725</td>\n",
       "      <td>538.643810</td>\n",
       "      <td>539.910725</td>\n",
       "    </tr>\n",
       "    <tr>\n",
       "      <th>7</th>\n",
       "      <td>0</td>\n",
       "      <td>541.143810</td>\n",
       "      <td>537.410725</td>\n",
       "      <td>541.143810</td>\n",
       "      <td>542.410725</td>\n",
       "    </tr>\n",
       "    <tr>\n",
       "      <th>8</th>\n",
       "      <td>1</td>\n",
       "      <td>661.799864</td>\n",
       "      <td>539.910725</td>\n",
       "      <td>656.799864</td>\n",
       "      <td>539.910725</td>\n",
       "    </tr>\n",
       "    <tr>\n",
       "      <th>9</th>\n",
       "      <td>1</td>\n",
       "      <td>661.799864</td>\n",
       "      <td>569.910725</td>\n",
       "      <td>656.799864</td>\n",
       "      <td>569.910725</td>\n",
       "    </tr>\n",
       "    <tr>\n",
       "      <th>10</th>\n",
       "      <td>2</td>\n",
       "      <td>475.100512</td>\n",
       "      <td>457.608155</td>\n",
       "      <td>475.100512</td>\n",
       "      <td>462.608155</td>\n",
       "    </tr>\n",
       "    <tr>\n",
       "      <th>11</th>\n",
       "      <td>2</td>\n",
       "      <td>545.100512</td>\n",
       "      <td>457.608155</td>\n",
       "      <td>545.100512</td>\n",
       "      <td>462.608155</td>\n",
       "    </tr>\n",
       "  </tbody>\n",
       "</table>\n",
       "</div>"
      ],
      "text/plain": [
       "    device  end_att_line_X  end_att_line_Y  start_att_line_X  start_att_line_Y\n",
       "0        0      473.643810      569.910725        468.643810        569.910725\n",
       "1        0      471.143810      567.410725        471.143810        572.410725\n",
       "2        0      543.643810      569.910725        538.643810        569.910725\n",
       "3        0      541.143810      567.410725        541.143810        572.410725\n",
       "4        0      473.643810      539.910725        468.643810        539.910725\n",
       "5        0      471.143810      537.410725        471.143810        542.410725\n",
       "6        0      543.643810      539.910725        538.643810        539.910725\n",
       "7        0      541.143810      537.410725        541.143810        542.410725\n",
       "8        1      661.799864      539.910725        656.799864        539.910725\n",
       "9        1      661.799864      569.910725        656.799864        569.910725\n",
       "10       2      475.100512      457.608155        475.100512        462.608155\n",
       "11       2      545.100512      457.608155        545.100512        462.608155"
      ]
     },
     "execution_count": 123,
     "metadata": {},
     "output_type": "execute_result"
    }
   ],
   "source": [
    "df"
   ]
  },
  {
   "cell_type": "code",
   "execution_count": 5,
   "metadata": {},
   "outputs": [],
   "source": [
    "# Length of attraction line must be 5mm\n",
    "# Is the line in this row horisontal?\n",
    "df['horizontal']= (df.iloc[:,1] == df.iloc[:,2])\n",
    "# Find center of this line at axis X. If line is horizontal...\n",
    "df['point_X'] =np.where(df['horizontal'], \\\n",
    "                        # any coordinate is suitable\n",
    "                        df.iloc[:, 1], \\\n",
    "                        # otherwise, take the middle of the line by X\n",
    "                        (np.minimum(df.iloc[:, 1], df.iloc[:, 2]) +2.5))\n",
    "\n",
    "#same for Y\n",
    "df['point_Y'] =np.where(~ df['horizontal'], \\\n",
    "                        df.iloc[:, 3], \\\n",
    "                        (np.minimum(df.iloc[:, 3], df.iloc[:, 4]) +2.5))    \n",
    "#df"
   ]
  },
  {
   "cell_type": "code",
   "execution_count": 6,
   "metadata": {},
   "outputs": [
    {
     "data": {
      "text/html": [
       "<div>\n",
       "<style scoped>\n",
       "    .dataframe tbody tr th:only-of-type {\n",
       "        vertical-align: middle;\n",
       "    }\n",
       "\n",
       "    .dataframe tbody tr th {\n",
       "        vertical-align: top;\n",
       "    }\n",
       "\n",
       "    .dataframe thead th {\n",
       "        text-align: right;\n",
       "    }\n",
       "</style>\n",
       "<table border=\"1\" class=\"dataframe\">\n",
       "  <thead>\n",
       "    <tr style=\"text-align: right;\">\n",
       "      <th></th>\n",
       "      <th>device</th>\n",
       "      <th>point_X</th>\n",
       "      <th>point_Y</th>\n",
       "    </tr>\n",
       "  </thead>\n",
       "  <tbody>\n",
       "    <tr>\n",
       "      <th>0</th>\n",
       "      <td>0</td>\n",
       "      <td>471.143810</td>\n",
       "      <td>569.910725</td>\n",
       "    </tr>\n",
       "    <tr>\n",
       "      <th>2</th>\n",
       "      <td>0</td>\n",
       "      <td>541.143810</td>\n",
       "      <td>569.910725</td>\n",
       "    </tr>\n",
       "    <tr>\n",
       "      <th>4</th>\n",
       "      <td>0</td>\n",
       "      <td>471.143810</td>\n",
       "      <td>539.910725</td>\n",
       "    </tr>\n",
       "    <tr>\n",
       "      <th>6</th>\n",
       "      <td>0</td>\n",
       "      <td>541.143810</td>\n",
       "      <td>539.910725</td>\n",
       "    </tr>\n",
       "    <tr>\n",
       "      <th>8</th>\n",
       "      <td>1</td>\n",
       "      <td>659.299864</td>\n",
       "      <td>539.910725</td>\n",
       "    </tr>\n",
       "    <tr>\n",
       "      <th>9</th>\n",
       "      <td>1</td>\n",
       "      <td>659.299864</td>\n",
       "      <td>569.910725</td>\n",
       "    </tr>\n",
       "    <tr>\n",
       "      <th>10</th>\n",
       "      <td>2</td>\n",
       "      <td>475.100512</td>\n",
       "      <td>460.108155</td>\n",
       "    </tr>\n",
       "    <tr>\n",
       "      <th>11</th>\n",
       "      <td>2</td>\n",
       "      <td>545.100512</td>\n",
       "      <td>460.108155</td>\n",
       "    </tr>\n",
       "  </tbody>\n",
       "</table>\n",
       "</div>"
      ],
      "text/plain": [
       "    device     point_X     point_Y\n",
       "0        0  471.143810  569.910725\n",
       "2        0  541.143810  569.910725\n",
       "4        0  471.143810  539.910725\n",
       "6        0  541.143810  539.910725\n",
       "8        1  659.299864  539.910725\n",
       "9        1  659.299864  569.910725\n",
       "10       2  475.100512  460.108155\n",
       "11       2  545.100512  460.108155"
      ]
     },
     "execution_count": 6,
     "metadata": {},
     "output_type": "execute_result"
    }
   ],
   "source": []
  },
  {
   "cell_type": "code",
   "execution_count": 138,
   "metadata": {},
   "outputs": [
    {
     "name": "stdout",
     "output_type": "stream",
     "text": [
      "found rotated dimention.\n",
      "<POINTER(IAcadDimRotated) ptr=0x286debbfd48 at 286e2256248>\n",
      "found rotated dimention.\n",
      "<POINTER(IAcadDimRotated) ptr=0x286deb6cd38 at 286e2256348>\n",
      "found aligned dimention\n",
      "\n",
      "found aligned dimention\n",
      "\n"
     ]
    }
   ],
   "source": [
    "#df\n",
    "    #print(f'got an item: {item}')\n",
    "    #print(f'Object name: {item.ObjectName}')\n",
    "    #print(item._methods_)\n",
    "dims = []\n",
    "for item in msp:    \n",
    "    if item.ObjectName =='AcDbRotatedDimension':\n",
    "        print('found rotated dimention.')\n",
    "        print(item)\n",
    "        #print(f'Object layer name: {item.Layer}\\n')       \n",
    "        dim_rotated = item\n",
    "    elif item.ObjectName == 'AcDbAlignedDimension':\n",
    "        print('found aligned dimention\\n')\n",
    "        dim_aligned = item\n",
    "        dims.append(dim_aligned)\n",
    "        \n",
    "    #explode blocks\n",
    "#    elif item.ObjectName == 'AcDbBlockReference':       \n",
    "#         try:\n",
    "#             print(f'Found a block.\\n')\n",
    "#             block = item\n",
    "#             block.Explode()\n",
    "#         except:\n",
    "#             pass    # here we have some VARIANT bug. So just proceed.\n",
    "#         i+=1"
   ]
  },
  {
   "cell_type": "code",
   "execution_count": 140,
   "metadata": {},
   "outputs": [
    {
     "name": "stdout",
     "output_type": "stream",
     "text": [
      "<POINTER(IAcadDimAligned) ptr=0x286dcd019f8 at 286e2256148>\n",
      "<POINTER(IAcadDimAligned) ptr=0x286df268208 at 286e2256248>\n"
     ]
    }
   ],
   "source": [
    "df_dimensions = pd.DataFrame(columns ={'start_X', 'end_X','start_Y', 'end_Y'})\n",
    "df_dimensions = df_dimensions[['start_X', 'end_X','start_Y', 'end_Y']]\n",
    "\n",
    "for dim in dims:\n",
    "    print(dim)"
   ]
  },
  {
   "cell_type": "code",
   "execution_count": 128,
   "metadata": {},
   "outputs": [],
   "source": [
    "# set variables\n",
    "df3 = pd.DataFrame(columns ={'start_X', 'end_X','start_Y', 'end_Y'})\n",
    "df3 = df3[['start_X', 'end_X','start_Y', 'end_Y']]\n",
    "\n"
   ]
  },
  {
   "cell_type": "code",
   "execution_count": 139,
   "metadata": {},
   "outputs": [
    {
     "data": {
      "text/plain": [
       "[<POINTER(IAcadDimAligned) ptr=0x286dcd019f8 at 286e2256148>,\n",
       " <POINTER(IAcadDimAligned) ptr=0x286df268208 at 286e2256248>]"
      ]
     },
     "execution_count": 139,
     "metadata": {},
     "output_type": "execute_result"
    }
   ],
   "source": []
  },
  {
   "cell_type": "code",
   "execution_count": 113,
   "metadata": {},
   "outputs": [
    {
     "data": {
      "text/plain": [
       "<POINTER(IAcadSelectionSets) ptr=0x286dcd36ba8 at 286e2238dc8>"
      ]
     },
     "execution_count": 113,
     "metadata": {},
     "output_type": "execute_result"
    }
   ],
   "source": [
    "sset"
   ]
  },
  {
   "cell_type": "code",
   "execution_count": 94,
   "metadata": {},
   "outputs": [],
   "source": [
    "# Довольно неочевидно, как взрывать размеры, не используя vba или lisp. Здесь надо будет добыть имя блока размера для метода explode.\n",
    "# for item in msp:\n",
    "#     if item.ObjectName == 'AcAlignedDimension':\n",
    "#         #find BLOCK object by given BlockRef\n",
    "#         activedoc.Blocks.Item(item.     )\n",
    "#         #item.Explode(item.ObjectID)\n",
    "\n",
    "#         print (item.ObjectID) "
   ]
  },
  {
   "cell_type": "code",
   "execution_count": 97,
   "metadata": {},
   "outputs": [
    {
     "data": {
      "text/plain": [
       "(596.4774206594807, 603.8583661593816, 0.0)"
      ]
     },
     "execution_count": 97,
     "metadata": {},
     "output_type": "execute_result"
    }
   ],
   "source": [
    "dim_aligned.ExtLine1Point\n"
   ]
  },
  {
   "cell_type": "code",
   "execution_count": null,
   "metadata": {},
   "outputs": [],
   "source": []
  },
  {
   "cell_type": "markdown",
   "metadata": {},
   "source": [
    "Использовать фичу DIMATFIT \n",
    "\n",
    "вариант добычи точек привязки rotated размера - экспорт в dwf https://adn-cis.org/forum/index.php?topic=8448.msg31681#msg31681\n",
    "И не забыть SelectionSet"
   ]
  },
  {
   "cell_type": "code",
   "execution_count": null,
   "metadata": {},
   "outputs": [],
   "source": []
  },
  {
   "cell_type": "code",
   "execution_count": null,
   "metadata": {},
   "outputs": [],
   "source": []
  },
  {
   "cell_type": "code",
   "execution_count": null,
   "metadata": {},
   "outputs": [],
   "source": []
  },
  {
   "cell_type": "code",
   "execution_count": null,
   "metadata": {},
   "outputs": [],
   "source": [
    "def FindAttachmentPoint(data):\n",
    "    \"\"\"This function converts given data to the coordinates of attachment points. \n",
    "    \n",
    "    data: dataframe with coordinates of lines in layer 'attachment point'\n",
    "    \n",
    "    return\n",
    "    \"\"\"\n",
    "    #FindAttachmentPoint(df[df['device']==device])\n",
    "    print(f'data:\\n{data}')\n",
    "    print(data.iloc[[0]])\n",
    "\n",
    "\n",
    "def MakeDimVertical(msp, point1, point2, loc):\n",
    "    \"\"\"This function make vertical dimension.\n",
    "    \n",
    "    msp:  model space\n",
    "    point1, point2: points of dimention\n",
    "    loc - location of dimension\n",
    "    \"\"\"\n",
    "    pass\n",
    "    \n",
    "\n",
    "def MakeDimHorizontal(msp, point1, point2, loc):\n",
    "    \"\"\"This function make horizontal dimension.\n",
    "    \n",
    "    msp:  model space\n",
    "    point1, point2: points of dimention\n",
    "    loc - location of dimension\n",
    "    \"\"\"\n",
    "    pass\n",
    "\n",
    "def ProcessAttachmentPoints(msp, objects):\n",
    "    \"\"\"This function make coorginates of attachment points.\n",
    "    \n",
    "    msp:  model space\n",
    "    objects:  lines from specified layer\n",
    "    \"\"\"\n",
    "    pass\n"
   ]
  },
  {
   "cell_type": "code",
   "execution_count": null,
   "metadata": {},
   "outputs": [],
   "source": [
    "pt = array.array('d', [0,0,0]) # to convert in variant\n",
    "point = mSp.AddPoint(pt)\n",
    "# Add a LINE\n",
    "pt1 = array.array('d', [0.0,0.0,0]) # start point\n",
    "pt2 = array.array('d', [20.0,20.0,0]) # end point\n",
    "line = mSp.AddLine(pt1, pt2)"
   ]
  },
  {
   "cell_type": "code",
   "execution_count": null,
   "metadata": {},
   "outputs": [],
   "source": [
    "s1 =  array.array('d', [500.0, 800.0, 0.0])\n",
    "s2 =  array.array('d', [500.0, 1200.0, 0.0])\n",
    "loc = array.array('d', [500.0, 1000.0, 0.0])\n",
    "new_dim = mSp.AddDimAligned(s1, s2, loc)\n",
    "new_dim.update()"
   ]
  },
  {
   "cell_type": "code",
   "execution_count": null,
   "metadata": {},
   "outputs": [],
   "source": [
    "dim.\n"
   ]
  },
  {
   "cell_type": "code",
   "execution_count": null,
   "metadata": {},
   "outputs": [],
   "source": [
    "df = pd.read_excel('E://Python/RubinProject/Journal.xlsx')"
   ]
  },
  {
   "cell_type": "code",
   "execution_count": null,
   "metadata": {},
   "outputs": [],
   "source": [
    "make_dim_vertical()"
   ]
  },
  {
   "cell_type": "code",
   "execution_count": null,
   "metadata": {},
   "outputs": [],
   "source": [
    "df = df.rename({'Имя прибора': 'prib_name',\n",
    "               'Индекс по схеме': 'shema_index'},\n",
    "               axis=1)"
   ]
  },
  {
   "cell_type": "code",
   "execution_count": null,
   "metadata": {},
   "outputs": [],
   "source": [
    "# import win32com.client\n",
    "# acad = win32com.client.Dispatch(\"AutoCAD.Application\")\n",
    "\n",
    "# doc = acad.ActiveDocument   # Document object\n",
    "\n",
    "\n",
    "# # iterate trough all objects (entities) in the currently opened drawing\n",
    "# # and if its a BlockReference, display its attributes and some other things.\n",
    "# for entity in acad.ActiveDocument.ModelSpace:\n",
    "#     name = entity.EntityName\n",
    "#     if name == 'AcDbBlockReference':\n",
    "#         HasAttributes = entity.HasAttributes\n",
    "#         if HasAttributes:\n",
    "#             print(entity.Name)\n",
    "#             print(entity.Layer)\n",
    "#             print(entity.ObjectID)\n",
    "#             for attrib in entity.GetAttributes():\n",
    "#                 print(\"  {}: {}\".format(attrib.TagString, attrib.TextString))\n",
    "                \n",
    "#                 # update text\n",
    "#                 attrib.TextString = 'modified with python'\n",
    "#                 attrib.Update()"
   ]
  },
  {
   "cell_type": "code",
   "execution_count": null,
   "metadata": {},
   "outputs": [],
   "source": []
  },
  {
   "cell_type": "markdown",
   "metadata": {},
   "source": [
    "Фичи размеров в качестве таргетов:\n",
    "- TextPosition (rotated размеры тоже их имеют)"
   ]
  },
  {
   "cell_type": "markdown",
   "metadata": {},
   "source": [
    "Запасной вариант- взрывать кхерам все размеры, вытаскивать параметры линий, и таким образом получать координаты точек привязки размера, а заодно и координаты текста. Наверное, придётся так и сделать, чтобы обеспечить непересекаемоть размеров и других линий чертежа, типа линий габаритки"
   ]
  },
  {
   "cell_type": "code",
   "execution_count": null,
   "metadata": {},
   "outputs": [],
   "source": []
  },
  {
   "cell_type": "code",
   "execution_count": null,
   "metadata": {},
   "outputs": [],
   "source": []
  },
  {
   "cell_type": "markdown",
   "metadata": {},
   "source": [
    "todo:\n",
    "\n",
    "точка крепления может быть не посередине линии соответствующего слоя, а где-то на пересечении с линией прибора. Сделать проверку на небольшое отклонение и выдать сообщение чтобы поправили чертёж"
   ]
  }
 ],
 "metadata": {
  "kernelspec": {
   "display_name": "Python 3",
   "language": "python",
   "name": "python3"
  },
  "language_info": {
   "codemirror_mode": {
    "name": "ipython",
    "version": 3
   },
   "file_extension": ".py",
   "mimetype": "text/x-python",
   "name": "python",
   "nbconvert_exporter": "python",
   "pygments_lexer": "ipython3",
   "version": "3.7.3"
  }
 },
 "nbformat": 4,
 "nbformat_minor": 4
}
